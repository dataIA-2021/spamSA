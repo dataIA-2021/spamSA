{
 "cells": [
  {
   "cell_type": "markdown",
   "id": "05cccbd4",
   "metadata": {},
   "source": [
    "# SPAM Modele Learning"
   ]
  },
  {
   "cell_type": "markdown",
   "id": "8f615650",
   "metadata": {},
   "source": [
    "Importation des libraries"
   ]
  },
  {
   "cell_type": "code",
   "execution_count": 1,
   "id": "45b87e70",
   "metadata": {},
   "outputs": [],
   "source": [
    "import pandas as pd\n",
    "import re\n",
    "from pymongo import MongoClient\n",
    "import matplotlib.pyplot as plt\n",
    "from sklearn.base import BaseEstimator,TransformerMixin\n",
    "from sklearn.pipeline import Pipeline\n",
    "from sklearn.preprocessing import StandardScaler\n",
    "from sklearn.metrics import precision_score"
   ]
  },
  {
   "cell_type": "markdown",
   "id": "5333ba9a",
   "metadata": {},
   "source": [
    "## Récupération et observation de la donnée"
   ]
  },
  {
   "cell_type": "code",
   "execution_count": 2,
   "id": "ccaec450",
   "metadata": {},
   "outputs": [],
   "source": [
    "df = pd.read_csv(\".\\SMSSpamCollection\",sep=\"\\t\", header= None) "
   ]
  },
  {
   "cell_type": "code",
   "execution_count": 3,
   "id": "ef916c97",
   "metadata": {},
   "outputs": [
    {
     "data": {
      "text/html": [
       "<div>\n",
       "<style scoped>\n",
       "    .dataframe tbody tr th:only-of-type {\n",
       "        vertical-align: middle;\n",
       "    }\n",
       "\n",
       "    .dataframe tbody tr th {\n",
       "        vertical-align: top;\n",
       "    }\n",
       "\n",
       "    .dataframe thead th {\n",
       "        text-align: right;\n",
       "    }\n",
       "</style>\n",
       "<table border=\"1\" class=\"dataframe\">\n",
       "  <thead>\n",
       "    <tr style=\"text-align: right;\">\n",
       "      <th></th>\n",
       "      <th>label</th>\n",
       "      <th>message</th>\n",
       "    </tr>\n",
       "  </thead>\n",
       "  <tbody>\n",
       "    <tr>\n",
       "      <th>0</th>\n",
       "      <td>ham</td>\n",
       "      <td>Go until jurong point, crazy.. Available only ...</td>\n",
       "    </tr>\n",
       "    <tr>\n",
       "      <th>1</th>\n",
       "      <td>ham</td>\n",
       "      <td>Ok lar... Joking wif u oni...</td>\n",
       "    </tr>\n",
       "    <tr>\n",
       "      <th>2</th>\n",
       "      <td>spam</td>\n",
       "      <td>Free entry in 2 a wkly comp to win FA Cup fina...</td>\n",
       "    </tr>\n",
       "    <tr>\n",
       "      <th>3</th>\n",
       "      <td>ham</td>\n",
       "      <td>U dun say so early hor... U c already then say...</td>\n",
       "    </tr>\n",
       "    <tr>\n",
       "      <th>4</th>\n",
       "      <td>ham</td>\n",
       "      <td>Nah I don't think he goes to usf, he lives aro...</td>\n",
       "    </tr>\n",
       "  </tbody>\n",
       "</table>\n",
       "</div>"
      ],
      "text/plain": [
       "  label                                            message\n",
       "0   ham  Go until jurong point, crazy.. Available only ...\n",
       "1   ham                      Ok lar... Joking wif u oni...\n",
       "2  spam  Free entry in 2 a wkly comp to win FA Cup fina...\n",
       "3   ham  U dun say so early hor... U c already then say...\n",
       "4   ham  Nah I don't think he goes to usf, he lives aro..."
      ]
     },
     "execution_count": 3,
     "metadata": {},
     "output_type": "execute_result"
    }
   ],
   "source": [
    "df.columns = ['label','message']\n",
    "df.head()"
   ]
  },
  {
   "cell_type": "markdown",
   "id": "f94e210e",
   "metadata": {},
   "source": [
    "Création de 'countspam', Cette fonction prend en parramettre un code regex. Elle parcourt chaque message retournant et comptant chaque message contenant une occurence du code."
   ]
  },
  {
   "cell_type": "code",
   "execution_count": 4,
   "id": "21f573c2",
   "metadata": {},
   "outputs": [],
   "source": [
    "def countspam(code):\n",
    "    n=0\n",
    "    countsp = 0\n",
    "    countha = 0\n",
    "    for line in df['message']: # Parcours des lignes\n",
    "        x = re.findall(code, line)\n",
    "        if x:\n",
    "            #print(n, 'findall:', x) #liste des occurences\n",
    "            #print(df['label'][n])   #Spam ou Ham\n",
    "            #print(df['message'][n]) # le message contenant l'occurence\n",
    "        \n",
    "            if df['label'][n]== 'spam':\n",
    "                countsp +=1\n",
    "            else:\n",
    "                countha +=1     \n",
    "        n+=1\n",
    "    print('Nombre de Spam :', countsp) #total de spam contenant le regex\n",
    "    print('Nombre de Ham :', countha)  #total d'ham"
   ]
  },
  {
   "cell_type": "markdown",
   "id": "3b83e963",
   "metadata": {},
   "source": [
    "Test de différent code regex"
   ]
  },
  {
   "cell_type": "code",
   "execution_count": 5,
   "id": "dd3baa50",
   "metadata": {},
   "outputs": [
    {
     "name": "stdout",
     "output_type": "stream",
     "text": [
      "Nombre de Spam : 405\n",
      "Nombre de Ham : 1\n"
     ]
    }
   ],
   "source": [
    "countspam(\"[0-9]{10}\")"
   ]
  },
  {
   "cell_type": "code",
   "execution_count": 6,
   "id": "7360436b",
   "metadata": {},
   "outputs": [
    {
     "name": "stdout",
     "output_type": "stream",
     "text": [
      "Nombre de Spam : 257\n",
      "Nombre de Ham : 19\n"
     ]
    }
   ],
   "source": [
    "countspam(\"£|\\$\")"
   ]
  },
  {
   "cell_type": "code",
   "execution_count": 7,
   "id": "262a6543",
   "metadata": {},
   "outputs": [
    {
     "name": "stdout",
     "output_type": "stream",
     "text": [
      "Nombre de Spam : 12\n",
      "Nombre de Ham : 702\n"
     ]
    }
   ],
   "source": [
    "countspam(\"^I\")"
   ]
  },
  {
   "cell_type": "code",
   "execution_count": 8,
   "id": "8d9d35a2",
   "metadata": {},
   "outputs": [
    {
     "name": "stdout",
     "output_type": "stream",
     "text": [
      "Nombre de Spam : 209\n",
      "Nombre de Ham : 525\n"
     ]
    }
   ],
   "source": [
    "countspam(\"(?i)now\")"
   ]
  },
  {
   "cell_type": "code",
   "execution_count": 9,
   "id": "7f51db1c",
   "metadata": {},
   "outputs": [
    {
     "name": "stdout",
     "output_type": "stream",
     "text": [
      "Nombre de Spam : 98\n",
      "Nombre de Ham : 44\n"
     ]
    }
   ],
   "source": [
    "countspam(\"(?i)reply\")"
   ]
  },
  {
   "cell_type": "code",
   "execution_count": 10,
   "id": "d2e3cec4",
   "metadata": {},
   "outputs": [
    {
     "name": "stdout",
     "output_type": "stream",
     "text": [
      "Nombre de Spam : 106\n",
      "Nombre de Ham : 10\n"
     ]
    }
   ],
   "source": [
    "countspam(\"txt\")"
   ]
  },
  {
   "cell_type": "code",
   "execution_count": 11,
   "id": "756e4c3c",
   "metadata": {},
   "outputs": [
    {
     "name": "stdout",
     "output_type": "stream",
     "text": [
      "Nombre de Spam : 89\n",
      "Nombre de Ham : 0\n"
     ]
    }
   ],
   "source": [
    "countspam(\"(?i)(prize)\")"
   ]
  },
  {
   "cell_type": "markdown",
   "id": "e630fff1",
   "metadata": {},
   "source": [
    "Observons la longueur des commentaires. On utilise des histograme "
   ]
  },
  {
   "cell_type": "code",
   "execution_count": 12,
   "id": "e9e60e13",
   "metadata": {},
   "outputs": [
    {
     "data": {
      "text/plain": [
       "(array([ 67.,  99., 748., 708., 559., 440., 307., 305., 233., 213., 151.,\n",
       "        150., 161., 157., 190., 216., 358., 300.,  42.,  31.,  14.,  12.,\n",
       "         12.,   3.,   8.,  10.,   8.,   4.,   3.,   2.,  10.,   4.,   7.,\n",
       "          1.,   2.,   7.,   4.,   1.,   1.,   1.,   2.,   3.,   1.,   0.,\n",
       "          1.,   1.,   0.,   1.,   5.,   0.,   2.,   0.,   1.,   0.,   0.,\n",
       "          0.,   0.,   0.,   0.,   0.,   0.,   0.,   0.,   0.,   2.,   0.,\n",
       "          0.,   1.,   0.,   1.,   0.,   0.,   0.,   0.,   0.,   0.,   0.,\n",
       "          0.,   0.,   0.,   0.,   0.,   0.,   0.,   0.,   0.,   1.,   0.,\n",
       "          0.,   0.,   0.,   0.,   0.,   0.,   0.,   0.,   0.,   0.,   0.,\n",
       "          1.]),\n",
       " array([  2.  ,  11.08,  20.16,  29.24,  38.32,  47.4 ,  56.48,  65.56,\n",
       "         74.64,  83.72,  92.8 , 101.88, 110.96, 120.04, 129.12, 138.2 ,\n",
       "        147.28, 156.36, 165.44, 174.52, 183.6 , 192.68, 201.76, 210.84,\n",
       "        219.92, 229.  , 238.08, 247.16, 256.24, 265.32, 274.4 , 283.48,\n",
       "        292.56, 301.64, 310.72, 319.8 , 328.88, 337.96, 347.04, 356.12,\n",
       "        365.2 , 374.28, 383.36, 392.44, 401.52, 410.6 , 419.68, 428.76,\n",
       "        437.84, 446.92, 456.  , 465.08, 474.16, 483.24, 492.32, 501.4 ,\n",
       "        510.48, 519.56, 528.64, 537.72, 546.8 , 555.88, 564.96, 574.04,\n",
       "        583.12, 592.2 , 601.28, 610.36, 619.44, 628.52, 637.6 , 646.68,\n",
       "        655.76, 664.84, 673.92, 683.  , 692.08, 701.16, 710.24, 719.32,\n",
       "        728.4 , 737.48, 746.56, 755.64, 764.72, 773.8 , 782.88, 791.96,\n",
       "        801.04, 810.12, 819.2 , 828.28, 837.36, 846.44, 855.52, 864.6 ,\n",
       "        873.68, 882.76, 891.84, 900.92, 910.  ]),\n",
       " <BarContainer object of 100 artists>)"
      ]
     },
     "execution_count": 12,
     "metadata": {},
     "output_type": "execute_result"
    },
    {
     "data": {
      "image/png": "[encoded data removed]",
      "text/plain": [
       "<Figure size 432x288 with 1 Axes>"
      ]
     },
     "metadata": {
      "needs_background": "light"
     },
     "output_type": "display_data"
    }
   ],
   "source": [
    "plt.hist(df['message'].str.len(), bins=100)"
   ]
  },
  {
   "cell_type": "markdown",
   "id": "1d833606",
   "metadata": {},
   "source": [
    "Séparons les hams et spam pour observer les différences dans la répartition"
   ]
  },
  {
   "cell_type": "code",
   "execution_count": 13,
   "id": "e46ee9a1",
   "metadata": {},
   "outputs": [],
   "source": [
    "dfspam = df[df['label']=='spam']\n",
    "dfham = df[df['label']=='ham']"
   ]
  },
  {
   "cell_type": "code",
   "execution_count": 14,
   "id": "f923828b",
   "metadata": {},
   "outputs": [
    {
     "data": {
      "text/plain": [
       "(array([ 67.,  97., 747., 703., 552., 432., 302., 287., 224., 204., 132.,\n",
       "        126., 133., 126., 111., 109., 164., 118.,  31.,  25.,  14.,  11.,\n",
       "         12.,   3.,   7.,  10.,   8.,   4.,   3.,   2.,  10.,   4.,   7.,\n",
       "          1.,   2.,   7.,   4.,   1.,   1.,   1.,   2.,   3.,   1.,   0.,\n",
       "          1.,   1.,   0.,   1.,   5.,   0.,   2.,   0.,   1.,   0.,   0.,\n",
       "          0.,   0.,   0.,   0.,   0.,   0.,   0.,   0.,   0.,   2.,   0.,\n",
       "          0.,   1.,   0.,   1.,   0.,   0.,   0.,   0.,   0.,   0.,   0.,\n",
       "          0.,   0.,   0.,   0.,   0.,   0.,   0.,   0.,   0.,   1.,   0.,\n",
       "          0.,   0.,   0.,   0.,   0.,   0.,   0.,   0.,   0.,   0.,   0.,\n",
       "          1.]),\n",
       " array([  2.  ,  11.08,  20.16,  29.24,  38.32,  47.4 ,  56.48,  65.56,\n",
       "         74.64,  83.72,  92.8 , 101.88, 110.96, 120.04, 129.12, 138.2 ,\n",
       "        147.28, 156.36, 165.44, 174.52, 183.6 , 192.68, 201.76, 210.84,\n",
       "        219.92, 229.  , 238.08, 247.16, 256.24, 265.32, 274.4 , 283.48,\n",
       "        292.56, 301.64, 310.72, 319.8 , 328.88, 337.96, 347.04, 356.12,\n",
       "        365.2 , 374.28, 383.36, 392.44, 401.52, 410.6 , 419.68, 428.76,\n",
       "        437.84, 446.92, 456.  , 465.08, 474.16, 483.24, 492.32, 501.4 ,\n",
       "        510.48, 519.56, 528.64, 537.72, 546.8 , 555.88, 564.96, 574.04,\n",
       "        583.12, 592.2 , 601.28, 610.36, 619.44, 628.52, 637.6 , 646.68,\n",
       "        655.76, 664.84, 673.92, 683.  , 692.08, 701.16, 710.24, 719.32,\n",
       "        728.4 , 737.48, 746.56, 755.64, 764.72, 773.8 , 782.88, 791.96,\n",
       "        801.04, 810.12, 819.2 , 828.28, 837.36, 846.44, 855.52, 864.6 ,\n",
       "        873.68, 882.76, 891.84, 900.92, 910.  ]),\n",
       " <BarContainer object of 100 artists>)"
      ]
     },
     "execution_count": 14,
     "metadata": {},
     "output_type": "execute_result"
    },
    {
     "data": {
      "image/png": "[encoded data removed]",
      "text/plain": [
       "<Figure size 432x288 with 1 Axes>"
      ]
     },
     "metadata": {
      "needs_background": "light"
     },
     "output_type": "display_data"
    }
   ],
   "source": [
    "plt.hist(dfham['message'].str.len(), bins=100)"
   ]
  },
  {
   "cell_type": "code",
   "execution_count": 15,
   "id": "52991546",
   "metadata": {},
   "outputs": [
    {
     "data": {
      "text/plain": [
       "(array([ 1.,  0.,  1.,  0.,  0.,  1.,  0.,  0.,  1.,  3.,  0.,  1.,  1.,\n",
       "         2.,  1.,  1.,  4.,  4.,  2.,  0.,  0.,  1.,  0.,  1.,  3.,  1.,\n",
       "         4.,  4.,  6.,  3.,  2.,  0.,  6.,  2.,  3.,  0.,  5.,  0.,  1.,\n",
       "         5.,  4.,  9.,  2.,  4.,  9.,  6.,  6.,  3., 10.,  1., 11., 10.,\n",
       "         5., 10.,  3., 10., 13., 14., 27., 18., 23., 25., 27., 32., 32.,\n",
       "        18., 49., 58., 68., 76., 65.,  6.,  8.,  1.,  2.,  2.,  2.,  2.,\n",
       "         1.,  0.,  3.,  0.,  0.,  0.,  0.,  0.,  0.,  1.,  0.,  0.,  0.,\n",
       "         0.,  0.,  0.,  0.,  0.,  0.,  0.,  0.,  1.]),\n",
       " array([ 13. ,  15.1,  17.2,  19.3,  21.4,  23.5,  25.6,  27.7,  29.8,\n",
       "         31.9,  34. ,  36.1,  38.2,  40.3,  42.4,  44.5,  46.6,  48.7,\n",
       "         50.8,  52.9,  55. ,  57.1,  59.2,  61.3,  63.4,  65.5,  67.6,\n",
       "         69.7,  71.8,  73.9,  76. ,  78.1,  80.2,  82.3,  84.4,  86.5,\n",
       "         88.6,  90.7,  92.8,  94.9,  97. ,  99.1, 101.2, 103.3, 105.4,\n",
       "        107.5, 109.6, 111.7, 113.8, 115.9, 118. , 120.1, 122.2, 124.3,\n",
       "        126.4, 128.5, 130.6, 132.7, 134.8, 136.9, 139. , 141.1, 143.2,\n",
       "        145.3, 147.4, 149.5, 151.6, 153.7, 155.8, 157.9, 160. , 162.1,\n",
       "        164.2, 166.3, 168.4, 170.5, 172.6, 174.7, 176.8, 178.9, 181. ,\n",
       "        183.1, 185.2, 187.3, 189.4, 191.5, 193.6, 195.7, 197.8, 199.9,\n",
       "        202. , 204.1, 206.2, 208.3, 210.4, 212.5, 214.6, 216.7, 218.8,\n",
       "        220.9, 223. ]),\n",
       " <BarContainer object of 100 artists>)"
      ]
     },
     "execution_count": 15,
     "metadata": {},
     "output_type": "execute_result"
    },
    {
     "data": {
      "image/png": "[encoded data removed]",
      "text/plain": [
       "<Figure size 432x288 with 1 Axes>"
      ]
     },
     "metadata": {
      "needs_background": "light"
     },
     "output_type": "display_data"
    }
   ],
   "source": [
    "plt.hist(dfspam['message'].str.len(), bins=100)"
   ]
  },
  {
   "cell_type": "markdown",
   "id": "6d834683",
   "metadata": {},
   "source": [
    "On remarque que les spams et les hams forment deux piques distincts. La longueur semble être un indicateur pour différencier les spams et hams"
   ]
  },
  {
   "cell_type": "markdown",
   "id": "31eef381",
   "metadata": {},
   "source": [
    "# # Pre processing"
   ]
  },
  {
   "cell_type": "markdown",
   "id": "45e8e0b5",
   "metadata": {},
   "source": [
    "Ajoutons une colonne contenant la longueur des messages"
   ]
  },
  {
   "cell_type": "code",
   "execution_count": 16,
   "id": "65dd00b5",
   "metadata": {},
   "outputs": [],
   "source": [
    "df.insert(2, \"length\", \"0\")\n",
    "for x in range(df.message.size):\n",
    "       df.length.array[x] = len(df.message.array[x])\n"
   ]
  },
  {
   "cell_type": "markdown",
   "id": "1155e540",
   "metadata": {},
   "source": [
    "Création de countColumn. Cette fonction permet de rajouter une colonne nommé 'namecol'. Ell contiendras pour chaque message du df, le nombre d'occurence du 'code' regex y apparaisant.\n",
    "\n",
    "Création de ColumnCountCreator. C'est une classe qui implemente les classes nécéssaire pour être inclus dans un pipeline.\n",
    "Comme pour countColum, dans l'initialisation, il demande un code regex et un nom de colonne pour la créer.\n",
    "Sa fonction fit ne fait rien.\n",
    "Sa fonction transform crée la colonne d'occurence du code dans ledf renseigné."
   ]
  },
  {
   "cell_type": "code",
   "execution_count": 17,
   "id": "15d002ea",
   "metadata": {},
   "outputs": [],
   "source": [
    "def countColumn(code, namecol, df =df):\n",
    "    n=0\n",
    "    df.insert(1, namecol, 0, allow_duplicates=False)\n",
    "    for line in df['message']: # Parcours des lignes\n",
    "        x = re.findall(code, line)\n",
    "        if x:\n",
    "            df[namecol].array[n] = len(x)\n",
    "        n+=1    \n",
    "\n",
    "\n",
    "class ColumnCountCreator(BaseEstimator,TransformerMixin):\n",
    "    def __init__(self, code, namecol):\n",
    "        self.code = code\n",
    "        self.namecol =namecol\n",
    "    \n",
    "    def fit(self, X, y =None):\n",
    "        return self\n",
    "    \n",
    "    def transform(self, X, y =None):\n",
    "        df = X.copy()\n",
    "        n=0\n",
    "        df.insert(1, self.namecol, 0, allow_duplicates=False)\n",
    "        for line in df['message']: # Parcours des lignes\n",
    "            x = re.findall(self.code, line)\n",
    "            if x:\n",
    "                df[self.namecol].array[n] = len(x)\n",
    "            n+=1   \n",
    "        return df"
   ]
  },
  {
   "cell_type": "markdown",
   "id": "bf357651",
   "metadata": {},
   "source": [
    "Création des colonnes et sauvegarde du tout sous une pipeline"
   ]
  },
  {
   "cell_type": "code",
   "execution_count": 18,
   "id": "70aaae88",
   "metadata": {},
   "outputs": [],
   "source": [
    "\n",
    "transfo_col = Pipeline(steps=[\n",
    "    ('freeCol', ColumnCountCreator(\"(?i)(FREE)\", \"free\")),\n",
    "    ('phoneCol', ColumnCountCreator(\"[0-9]{10}\", \"phone\")),\n",
    "    ('prizeCol', ColumnCountCreator(\"(?i)(prize)\", \"prize\")),\n",
    "    ('giveCol', ColumnCountCreator(\"(?i)(give)\", \"give\")),\n",
    "    ('devCol', ColumnCountCreator(\"£|\\$\", \"devise\")),\n",
    "    ('txtCol', ColumnCountCreator(\"txt\", \"text\")),\n",
    "    ('replyCol', ColumnCountCreator(\"(?i)(reply)\", \"reply\"))\n",
    "])\n",
    "pipedf =transfo_col.fit_transform(df)\n"
   ]
  },
  {
   "cell_type": "code",
   "execution_count": 19,
   "id": "911efce7",
   "metadata": {},
   "outputs": [
    {
     "data": {
      "text/html": [
       "<div>\n",
       "<style scoped>\n",
       "    .dataframe tbody tr th:only-of-type {\n",
       "        vertical-align: middle;\n",
       "    }\n",
       "\n",
       "    .dataframe tbody tr th {\n",
       "        vertical-align: top;\n",
       "    }\n",
       "\n",
       "    .dataframe thead th {\n",
       "        text-align: right;\n",
       "    }\n",
       "</style>\n",
       "<table border=\"1\" class=\"dataframe\">\n",
       "  <thead>\n",
       "    <tr style=\"text-align: right;\">\n",
       "      <th></th>\n",
       "      <th>label</th>\n",
       "      <th>reply</th>\n",
       "      <th>text</th>\n",
       "      <th>devise</th>\n",
       "      <th>give</th>\n",
       "      <th>prize</th>\n",
       "      <th>phone</th>\n",
       "      <th>free</th>\n",
       "      <th>message</th>\n",
       "      <th>length</th>\n",
       "    </tr>\n",
       "  </thead>\n",
       "  <tbody>\n",
       "    <tr>\n",
       "      <th>0</th>\n",
       "      <td>ham</td>\n",
       "      <td>0</td>\n",
       "      <td>0</td>\n",
       "      <td>0</td>\n",
       "      <td>0</td>\n",
       "      <td>0</td>\n",
       "      <td>0</td>\n",
       "      <td>0</td>\n",
       "      <td>Go until jurong point, crazy.. Available only ...</td>\n",
       "      <td>111</td>\n",
       "    </tr>\n",
       "    <tr>\n",
       "      <th>1</th>\n",
       "      <td>ham</td>\n",
       "      <td>0</td>\n",
       "      <td>0</td>\n",
       "      <td>0</td>\n",
       "      <td>0</td>\n",
       "      <td>0</td>\n",
       "      <td>0</td>\n",
       "      <td>0</td>\n",
       "      <td>Ok lar... Joking wif u oni...</td>\n",
       "      <td>29</td>\n",
       "    </tr>\n",
       "    <tr>\n",
       "      <th>2</th>\n",
       "      <td>spam</td>\n",
       "      <td>0</td>\n",
       "      <td>1</td>\n",
       "      <td>0</td>\n",
       "      <td>0</td>\n",
       "      <td>0</td>\n",
       "      <td>1</td>\n",
       "      <td>1</td>\n",
       "      <td>Free entry in 2 a wkly comp to win FA Cup fina...</td>\n",
       "      <td>155</td>\n",
       "    </tr>\n",
       "    <tr>\n",
       "      <th>3</th>\n",
       "      <td>ham</td>\n",
       "      <td>0</td>\n",
       "      <td>0</td>\n",
       "      <td>0</td>\n",
       "      <td>0</td>\n",
       "      <td>0</td>\n",
       "      <td>0</td>\n",
       "      <td>0</td>\n",
       "      <td>U dun say so early hor... U c already then say...</td>\n",
       "      <td>49</td>\n",
       "    </tr>\n",
       "    <tr>\n",
       "      <th>4</th>\n",
       "      <td>ham</td>\n",
       "      <td>0</td>\n",
       "      <td>0</td>\n",
       "      <td>0</td>\n",
       "      <td>0</td>\n",
       "      <td>0</td>\n",
       "      <td>0</td>\n",
       "      <td>0</td>\n",
       "      <td>Nah I don't think he goes to usf, he lives aro...</td>\n",
       "      <td>61</td>\n",
       "    </tr>\n",
       "  </tbody>\n",
       "</table>\n",
       "</div>"
      ],
      "text/plain": [
       "  label  reply  text  devise  give  prize  phone  free  \\\n",
       "0   ham      0     0       0     0      0      0     0   \n",
       "1   ham      0     0       0     0      0      0     0   \n",
       "2  spam      0     1       0     0      0      1     1   \n",
       "3   ham      0     0       0     0      0      0     0   \n",
       "4   ham      0     0       0     0      0      0     0   \n",
       "\n",
       "                                             message length  \n",
       "0  Go until jurong point, crazy.. Available only ...    111  \n",
       "1                      Ok lar... Joking wif u oni...     29  \n",
       "2  Free entry in 2 a wkly comp to win FA Cup fina...    155  \n",
       "3  U dun say so early hor... U c already then say...     49  \n",
       "4  Nah I don't think he goes to usf, he lives aro...     61  "
      ]
     },
     "execution_count": 19,
     "metadata": {},
     "output_type": "execute_result"
    }
   ],
   "source": [
    "pipedf.head()"
   ]
  },
  {
   "cell_type": "markdown",
   "id": "725393ac",
   "metadata": {},
   "source": [
    "Encodage et standardisation des colonnes"
   ]
  },
  {
   "cell_type": "code",
   "execution_count": 20,
   "id": "36086ce4",
   "metadata": {},
   "outputs": [],
   "source": [
    "from sklearn.preprocessing import LabelEncoder\n",
    "column_cat = ['label']\n",
    "\n",
    "label_encod = LabelEncoder()\n",
    "dfe =label_encod.fit_transform(pipedf['label'])\n",
    "y = dfe\n",
    "paramCol = ['length','free','phone','prize','give','devise','text','reply']\n",
    "Xdf =pipedf[paramCol]\n",
    "\n",
    "standardis = Pipeline(steps=[('scaler', StandardScaler())])\n",
    "X=standardis.fit_transform(Xdf)"
   ]
  },
  {
   "cell_type": "markdown",
   "id": "63104227",
   "metadata": {},
   "source": [
    "# # Modeling"
   ]
  },
  {
   "cell_type": "markdown",
   "id": "d4ff3f30",
   "metadata": {},
   "source": [
    "Classifiertest permet de tester des classifier et d'afficher la précision et la matrice de confusion.\n",
    "Le split des donnée est aussi inclu.\n",
    "\n",
    "La précision et prise car on souhaite éviter de mettre en spam de vrais message qui en seront ignoré."
   ]
  },
  {
   "cell_type": "code",
   "execution_count": 21,
   "id": "7b4c7c7f",
   "metadata": {},
   "outputs": [],
   "source": [
    "from sklearn.metrics import confusion_matrix, accuracy_score\n",
    "from sklearn.metrics import plot_confusion_matrix\n",
    "from sklearn.model_selection import train_test_split\n",
    "\n",
    "def classifiertest(classifier, X, y, testset_size=0.25):\n",
    "    X_train, X_test, y_train, y_test = train_test_split(X, y, test_size=testset_size, random_state=37, stratify=y)\n",
    "    classifier.fit(X_train, y_train)\n",
    "    prediction = classifier.predict(X_test)\n",
    "    # Compute the accuracy (in %)\n",
    "    accuracy = precision_score(y_test, prediction)*100\n",
    "    # Let's see the global performance\n",
    "    print('Precision of our model is equal ' + str(round(accuracy, 2)) + ' %.')\n",
    "    plot_confusion_matrix(classifier, X_test, y_test,\n",
    "                                 cmap=plt.cm.summer, # other color palettes : https://matplotlib.org/3.1.0/tutorials/colors/colormaps.html\n",
    "                                 normalize=None)\n",
    "\n",
    "\n"
   ]
  },
  {
   "cell_type": "markdown",
   "id": "365efca0",
   "metadata": {},
   "source": [
    "Test de différent classifier"
   ]
  },
  {
   "cell_type": "code",
   "execution_count": 22,
   "id": "c38f53e6",
   "metadata": {},
   "outputs": [
    {
     "name": "stdout",
     "output_type": "stream",
     "text": [
      "Precision of our model is equal 90.36 %.\n"
     ]
    },
    {
     "data": {
      "image/png": "[encoded data removed]",
      "text/plain": [
       "<Figure size 432x288 with 2 Axes>"
      ]
     },
     "metadata": {
      "needs_background": "light"
     },
     "output_type": "display_data"
    }
   ],
   "source": [
    "from sklearn.neighbors import KNeighborsClassifier\n",
    "# Initialisation with the choice of k = 3\n",
    "KNN_classifier = KNeighborsClassifier(n_neighbors=5)\n",
    "classifiertest(KNN_classifier, X, y)"
   ]
  },
  {
   "cell_type": "code",
   "execution_count": 23,
   "id": "1f62ca7e",
   "metadata": {},
   "outputs": [
    {
     "name": "stdout",
     "output_type": "stream",
     "text": [
      "Precision of our model is equal 91.93 %.\n"
     ]
    },
    {
     "data": {
      "image/png": "[encoded data removed]",
      "text/plain": [
       "<Figure size 432x288 with 2 Axes>"
      ]
     },
     "metadata": {
      "needs_background": "light"
     },
     "output_type": "display_data"
    }
   ],
   "source": [
    "from sklearn import tree\n",
    "clf = tree.DecisionTreeClassifier()\n",
    "classifiertest(clf, X, y)"
   ]
  },
  {
   "cell_type": "code",
   "execution_count": 24,
   "id": "128c1b4d",
   "metadata": {},
   "outputs": [
    {
     "name": "stdout",
     "output_type": "stream",
     "text": [
      "Precision of our model is equal 92.16 %.\n"
     ]
    },
    {
     "data": {
      "image/png": "[encoded data removed]",
      "text/plain": [
       "<Figure size 432x288 with 2 Axes>"
      ]
     },
     "metadata": {
      "needs_background": "light"
     },
     "output_type": "display_data"
    }
   ],
   "source": [
    "from sklearn.linear_model import LogisticRegression\n",
    "lr=LogisticRegression(max_iter=10000)\n",
    "classifiertest(lr, X, y)"
   ]
  },
  {
   "cell_type": "code",
   "execution_count": 25,
   "id": "b7dce788",
   "metadata": {},
   "outputs": [
    {
     "name": "stdout",
     "output_type": "stream",
     "text": [
      "Precision of our model is equal 94.74 %.\n"
     ]
    },
    {
     "data": {
      "image/png": "[encoded data removed]",
      "text/plain": [
       "<Figure size 432x288 with 2 Axes>"
      ]
     },
     "metadata": {
      "needs_background": "light"
     },
     "output_type": "display_data"
    }
   ],
   "source": [
    "from sklearn.naive_bayes import MultinomialNB\n",
    "nb=MultinomialNB()\n",
    "classifiertest(nb, Xdf, y)"
   ]
  },
  {
   "cell_type": "markdown",
   "id": "1592a9d4",
   "metadata": {},
   "source": [
    "Ce code à été mis pour tester la tokenisation de chaque terme.\n",
    "CleanText prend un text. Il enleve la ponctuation.\n",
    "Il prend chaque mots qu'il passe en minuscule et filtre en enlevant les stopwords.\n",
    "Il stem chaque mot. La fonction stem permet de récpéré la racine des mots (exemple programmation et programmer a la même racine)\n",
    "Il retourne ensuite la liste des mots."
   ]
  },
  {
   "cell_type": "code",
   "execution_count": 26,
   "id": "92443fd1",
   "metadata": {},
   "outputs": [],
   "source": [
    "from nltk.stem import SnowballStemmer\n",
    "from nltk.corpus import stopwords\n",
    "import nltk\n",
    "import string\n",
    "stemmer = SnowballStemmer(\"english\")\n",
    "\n",
    "def cleanText(message):\n",
    "    \n",
    "    message = message.translate(str.maketrans('', '', string.punctuation))\n",
    "    words = [stemmer.stem(word) for word in message.split() if word.lower() not in stopwords.words(\"english\")]\n",
    "    \n",
    "    return \" \".join(words)\n",
    "\n"
   ]
  },
  {
   "cell_type": "markdown",
   "id": "5c53ee90",
   "metadata": {},
   "source": [
    "On peut ensuite vectoriser le resultat pour avoir un autre dataframe.\n",
    "Le nouveaux dataframe contenait plus de 8000 parrametre numérique"
   ]
  },
  {
   "cell_type": "code",
   "execution_count": 27,
   "id": "be145c63",
   "metadata": {},
   "outputs": [],
   "source": [
    "#Xnlp = df['message'].apply(cleanText)"
   ]
  },
  {
   "cell_type": "code",
   "execution_count": 28,
   "id": "55548114",
   "metadata": {},
   "outputs": [],
   "source": [
    "#from sklearn.feature_extraction.text import CountVectorizer\n",
    "#cv=CountVectorizer()\n",
    "#Xnlp=cv.fit_transform(Xnlp)"
   ]
  },
  {
   "cell_type": "markdown",
   "id": "d20df798",
   "metadata": {},
   "source": [
    "Ensuite pour optimiser un model. On a mis en place un grid searche sur un decision Tree Classifier"
   ]
  },
  {
   "cell_type": "code",
   "execution_count": 29,
   "id": "537bf3e1",
   "metadata": {},
   "outputs": [
    {
     "data": {
      "text/plain": [
       "GridSearchCV(estimator=DecisionTreeClassifier(),\n",
       "             param_grid={'max_depth': range(5, 25),\n",
       "                         'max_features': ('auto', 'sqrt', 'log2')},\n",
       "             scoring='precision')"
      ]
     },
     "execution_count": 29,
     "metadata": {},
     "output_type": "execute_result"
    }
   ],
   "source": [
    "\n",
    "from sklearn.model_selection import GridSearchCV\n",
    "\n",
    "parameters = {'max_features':('auto', 'sqrt','log2'), 'max_depth':range(5, 25, 1)}\n",
    "clt = tree.DecisionTreeClassifier()\n",
    "#parameters = {'alpha':(0, 0.5 ,1), 'fit_prior':(0,1)}\n",
    "#clt = MultinomialNB()\n",
    "\n",
    "clf = GridSearchCV(clt, parameters, scoring=\"precision\")\n",
    "X_train, X_test, y_train, y_test = train_test_split(X, y, test_size=0.2, random_state=37, stratify=y)\n",
    "clf.fit(X_train, y_train)\n",
    "\n"
   ]
  },
  {
   "cell_type": "code",
   "execution_count": 30,
   "id": "cc1f2754",
   "metadata": {},
   "outputs": [
    {
     "data": {
      "text/plain": [
       "0.9613576573699524"
      ]
     },
     "execution_count": 30,
     "metadata": {},
     "output_type": "execute_result"
    }
   ],
   "source": [
    "clf.best_score_"
   ]
  },
  {
   "cell_type": "code",
   "execution_count": 31,
   "id": "09fb70ed",
   "metadata": {},
   "outputs": [
    {
     "data": {
      "text/plain": [
       "{'max_depth': 5, 'max_features': 'sqrt'}"
      ]
     },
     "execution_count": 31,
     "metadata": {},
     "output_type": "execute_result"
    }
   ],
   "source": [
    "clf.best_params_"
   ]
  },
  {
   "cell_type": "markdown",
   "id": "2c7b0e5f",
   "metadata": {},
   "source": [
    "Nous avons donc un meilleur Tree Classifier. Testons le. On laisse l'utilisateur saisir un message."
   ]
  },
  {
   "cell_type": "code",
   "execution_count": 32,
   "id": "ad9e641f",
   "metadata": {},
   "outputs": [
    {
     "name": "stdout",
     "output_type": "stream",
     "text": [
      "Write the SMS to test\n",
      "When will the spam stop... How do you filter it?\n"
     ]
    }
   ],
   "source": [
    "print(\"Write the SMS to test\")\n",
    "mss = input()\n"
   ]
  },
  {
   "cell_type": "markdown",
   "id": "75da5b1a",
   "metadata": {},
   "source": [
    "Ensuite le message est transformer pour répondre au attente du modele"
   ]
  },
  {
   "cell_type": "code",
   "execution_count": 33,
   "id": "cc19bd6f",
   "metadata": {},
   "outputs": [],
   "source": [
    "mssdt = {'message': [mss]}\n",
    "mssdf = pd.DataFrame(mssdt)  \n",
    "mssdf.insert(1, \"length\", len(mss), allow_duplicates=False)\n",
    "mssdf =transfo_col.fit_transform(mssdf)\n",
    "Xpred =mssdf[paramCol]"
   ]
  },
  {
   "cell_type": "markdown",
   "id": "55436e17",
   "metadata": {},
   "source": [
    "On fait tourner le mmodele qui nous donne sa prédiction sur le message"
   ]
  },
  {
   "cell_type": "code",
   "execution_count": 34,
   "id": "fd1b0e14",
   "metadata": {},
   "outputs": [
    {
     "data": {
      "text/plain": [
       "array(['ham'], dtype=object)"
      ]
     },
     "execution_count": 34,
     "metadata": {},
     "output_type": "execute_result"
    }
   ],
   "source": [
    "res = clf.predict(Xpred)\n",
    "label_encod.inverse_transform(res)"
   ]
  },
  {
   "cell_type": "code",
   "execution_count": null,
   "id": "c64b323a",
   "metadata": {},
   "outputs": [],
   "source": [
    "\n"
   ]
  }
 ],
 "metadata": {
  "kernelspec": {
   "display_name": "Python 3 (ipykernel)",
   "language": "python",
   "name": "python3"
  },
  "language_info": {
   "codemirror_mode": {
    "name": "ipython",
    "version": 3
   },
   "file_extension": ".py",
   "mimetype": "text/x-python",
   "name": "python",
   "nbconvert_exporter": "python",
   "pygments_lexer": "ipython3",
   "version": "3.9.7"
  }
 },
 "nbformat": 4,
 "nbformat_minor": 5
}
