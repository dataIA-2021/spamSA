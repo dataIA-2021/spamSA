{
 "cells": [
  {
   "cell_type": "markdown",
   "id": "6d30e912",
   "metadata": {},
   "source": [
    "# SPAM Modele Learning"
   ]
  },
  {
   "cell_type": "markdown",
   "id": "b24ef718",
   "metadata": {},
   "source": [
    "Importation des libraries"
   ]
  },
  {
   "cell_type": "code",
   "execution_count": 1,
   "id": "45b87e70",
   "metadata": {},
   "outputs": [],
   "source": [
    "import pandas as pd\n",
    "import re\n",
    "import matplotlib.pyplot as plt\n",
    "from sklearn.base import BaseEstimator,TransformerMixin\n",
    "from sklearn.pipeline import Pipeline\n",
    "from sklearn.preprocessing import StandardScaler\n",
    "from sklearn.metrics import precision_score\n"
   ]
  },
  {
   "cell_type": "markdown",
   "id": "ec5f6994",
   "metadata": {},
   "source": [
    "## Récupération et observation de la donnée"
   ]
  },
  {
   "cell_type": "code",
   "execution_count": 2,
   "id": "ccaec450",
   "metadata": {},
   "outputs": [],
   "source": [
    "df = pd.read_csv(\".\\SMSSpamCollection\",sep=\"\\t\", header= None) "
   ]
  },
  {
   "cell_type": "code",
   "execution_count": 3,
   "id": "ef916c97",
   "metadata": {},
   "outputs": [
    {
     "data": {
      "text/html": [
       "<div>\n",
       "<style scoped>\n",
       "    .dataframe tbody tr th:only-of-type {\n",
       "        vertical-align: middle;\n",
       "    }\n",
       "\n",
       "    .dataframe tbody tr th {\n",
       "        vertical-align: top;\n",
       "    }\n",
       "\n",
       "    .dataframe thead th {\n",
       "        text-align: right;\n",
       "    }\n",
       "</style>\n",
       "<table border=\"1\" class=\"dataframe\">\n",
       "  <thead>\n",
       "    <tr style=\"text-align: right;\">\n",
       "      <th></th>\n",
       "      <th>label</th>\n",
       "      <th>message</th>\n",
       "    </tr>\n",
       "  </thead>\n",
       "  <tbody>\n",
       "    <tr>\n",
       "      <th>0</th>\n",
       "      <td>ham</td>\n",
       "      <td>Go until jurong point, crazy.. Available only ...</td>\n",
       "    </tr>\n",
       "    <tr>\n",
       "      <th>1</th>\n",
       "      <td>ham</td>\n",
       "      <td>Ok lar... Joking wif u oni...</td>\n",
       "    </tr>\n",
       "    <tr>\n",
       "      <th>2</th>\n",
       "      <td>spam</td>\n",
       "      <td>Free entry in 2 a wkly comp to win FA Cup fina...</td>\n",
       "    </tr>\n",
       "    <tr>\n",
       "      <th>3</th>\n",
       "      <td>ham</td>\n",
       "      <td>U dun say so early hor... U c already then say...</td>\n",
       "    </tr>\n",
       "    <tr>\n",
       "      <th>4</th>\n",
       "      <td>ham</td>\n",
       "      <td>Nah I don't think he goes to usf, he lives aro...</td>\n",
       "    </tr>\n",
       "  </tbody>\n",
       "</table>\n",
       "</div>"
      ],
      "text/plain": [
       "  label                                            message\n",
       "0   ham  Go until jurong point, crazy.. Available only ...\n",
       "1   ham                      Ok lar... Joking wif u oni...\n",
       "2  spam  Free entry in 2 a wkly comp to win FA Cup fina...\n",
       "3   ham  U dun say so early hor... U c already then say...\n",
       "4   ham  Nah I don't think he goes to usf, he lives aro..."
      ]
     },
     "execution_count": 3,
     "metadata": {},
     "output_type": "execute_result"
    }
   ],
   "source": [
    "df.columns = ['label','message']\n",
    "df.head()"
   ]
  },
  {
   "cell_type": "markdown",
   "id": "3fed3a65",
   "metadata": {},
   "source": [
    "Création de 'countspam', Cette fonction prend en parramettre un code regex. Elle parcourt chaque message retournant et comptant chaque message contenant une occurence du code."
   ]
  },
  {
   "cell_type": "code",
   "execution_count": 4,
   "id": "21f573c2",
   "metadata": {},
   "outputs": [],
   "source": [
    "def countspam(code):\n",
    "    n=0\n",
    "    countsp = 0\n",
    "    countha = 0\n",
    "    for line in df['message']: # Parcours des lignes\n",
    "        x = re.findall(code, line)\n",
    "        if x:\n",
    "            #print(n, 'findall:', x) #liste des occurences\n",
    "            #print(df['label'][n])   #Spam ou Ham\n",
    "            #print(df['message'][n]) # le message contenant l'occurence\n",
    "        \n",
    "            if df['label'][n]== 'spam':\n",
    "                countsp +=1\n",
    "            else:\n",
    "                countha +=1     \n",
    "        n+=1\n",
    "    print('Nombre de Spam :', countsp) #total de spam contenant le regex\n",
    "    print('Nombre de Ham :', countha)  #total d'ham"
   ]
  },
  {
   "cell_type": "markdown",
   "id": "3d4af559",
   "metadata": {},
   "source": [
    "Test de différent code regex"
   ]
  },
  {
   "cell_type": "code",
   "execution_count": 5,
   "id": "dd3baa50",
   "metadata": {},
   "outputs": [
    {
     "name": "stdout",
     "output_type": "stream",
     "text": [
      "Nombre de Spam : 405\n",
      "Nombre de Ham : 1\n"
     ]
    }
   ],
   "source": [
    "countspam(\"[0-9]{10}\")"
   ]
  },
  {
   "cell_type": "code",
   "execution_count": 6,
   "id": "7360436b",
   "metadata": {},
   "outputs": [
    {
     "name": "stdout",
     "output_type": "stream",
     "text": [
      "Nombre de Spam : 257\n",
      "Nombre de Ham : 19\n"
     ]
    }
   ],
   "source": [
    "countspam(\"£|\\$\")"
   ]
  },
  {
   "cell_type": "code",
   "execution_count": 50,
   "id": "262a6543",
   "metadata": {},
   "outputs": [
    {
     "name": "stdout",
     "output_type": "stream",
     "text": [
      "Nombre de Spam : 12\n",
      "Nombre de Ham : 702\n"
     ]
    }
   ],
   "source": [
    "countspam(\"^I\")"
   ]
  },
  {
   "cell_type": "code",
   "execution_count": 8,
   "id": "8d9d35a2",
   "metadata": {},
   "outputs": [
    {
     "name": "stdout",
     "output_type": "stream",
     "text": [
      "Nombre de Spam : 209\n",
      "Nombre de Ham : 525\n"
     ]
    }
   ],
   "source": [
    "countspam(\"(?i)now\")"
   ]
  },
  {
   "cell_type": "code",
   "execution_count": 9,
   "id": "7f51db1c",
   "metadata": {},
   "outputs": [
    {
     "name": "stdout",
     "output_type": "stream",
     "text": [
      "Nombre de Spam : 98\n",
      "Nombre de Ham : 44\n"
     ]
    }
   ],
   "source": [
    "countspam(\"(?i)reply\")"
   ]
  },
  {
   "cell_type": "code",
   "execution_count": 10,
   "id": "d2e3cec4",
   "metadata": {},
   "outputs": [
    {
     "name": "stdout",
     "output_type": "stream",
     "text": [
      "Nombre de Spam : 106\n",
      "Nombre de Ham : 10\n"
     ]
    }
   ],
   "source": [
    "countspam(\"txt\")"
   ]
  },
  {
   "cell_type": "code",
   "execution_count": 11,
   "id": "756e4c3c",
   "metadata": {},
   "outputs": [
    {
     "name": "stdout",
     "output_type": "stream",
     "text": [
      "Nombre de Spam : 89\n",
      "Nombre de Ham : 0\n"
     ]
    }
   ],
   "source": [
    "countspam(\"(?i)(prize)\")"
   ]
  },
  {
   "cell_type": "markdown",
   "id": "86b53523",
   "metadata": {},
   "source": [
    "Observons la longueur des commentaires. On utilise des histograme "
   ]
  },
  {
   "cell_type": "code",
   "execution_count": 12,
   "id": "e9e60e13",
   "metadata": {},
   "outputs": [
    {
     "data": {
      "text/plain": [
       "(array([ 67.,  99., 748., 708., 559., 440., 307., 305., 233., 213., 151.,\n",
       "        150., 161., 157., 190., 216., 358., 300.,  42.,  31.,  14.,  12.,\n",
       "         12.,   3.,   8.,  10.,   8.,   4.,   3.,   2.,  10.,   4.,   7.,\n",
       "          1.,   2.,   7.,   4.,   1.,   1.,   1.,   2.,   3.,   1.,   0.,\n",
       "          1.,   1.,   0.,   1.,   5.,   0.,   2.,   0.,   1.,   0.,   0.,\n",
       "          0.,   0.,   0.,   0.,   0.,   0.,   0.,   0.,   0.,   2.,   0.,\n",
       "          0.,   1.,   0.,   1.,   0.,   0.,   0.,   0.,   0.,   0.,   0.,\n",
       "          0.,   0.,   0.,   0.,   0.,   0.,   0.,   0.,   0.,   1.,   0.,\n",
       "          0.,   0.,   0.,   0.,   0.,   0.,   0.,   0.,   0.,   0.,   0.,\n",
       "          1.]),\n",
       " array([  2.  ,  11.08,  20.16,  29.24,  38.32,  47.4 ,  56.48,  65.56,\n",
       "         74.64,  83.72,  92.8 , 101.88, 110.96, 120.04, 129.12, 138.2 ,\n",
       "        147.28, 156.36, 165.44, 174.52, 183.6 , 192.68, 201.76, 210.84,\n",
       "        219.92, 229.  , 238.08, 247.16, 256.24, 265.32, 274.4 , 283.48,\n",
       "        292.56, 301.64, 310.72, 319.8 , 328.88, 337.96, 347.04, 356.12,\n",
       "        365.2 , 374.28, 383.36, 392.44, 401.52, 410.6 , 419.68, 428.76,\n",
       "        437.84, 446.92, 456.  , 465.08, 474.16, 483.24, 492.32, 501.4 ,\n",
       "        510.48, 519.56, 528.64, 537.72, 546.8 , 555.88, 564.96, 574.04,\n",
       "        583.12, 592.2 , 601.28, 610.36, 619.44, 628.52, 637.6 , 646.68,\n",
       "        655.76, 664.84, 673.92, 683.  , 692.08, 701.16, 710.24, 719.32,\n",
       "        728.4 , 737.48, 746.56, 755.64, 764.72, 773.8 , 782.88, 791.96,\n",
       "        801.04, 810.12, 819.2 , 828.28, 837.36, 846.44, 855.52, 864.6 ,\n",
       "        873.68, 882.76, 891.84, 900.92, 910.  ]),\n",
       " <BarContainer object of 100 artists>)"
      ]
     },
     "execution_count": 12,
     "metadata": {},
     "output_type": "execute_result"
    },
    {
     "data": {
      "image/png": "[encoded data removed]",
      "text/plain": [
       "<Figure size 432x288 with 1 Axes>"
      ]
     },
     "metadata": {
      "needs_background": "light"
     },
     "output_type": "display_data"
    }
   ],
   "source": [
    "plt.hist(df['message'].str.len(), bins=100)"
   ]
  },
  {
   "cell_type": "markdown",
   "id": "cb8700c0",
   "metadata": {},
   "source": [
    "Séparons les hams et spam pour observer les différences dans la répartition"
   ]
  },
  {
   "cell_type": "code",
   "execution_count": 13,
   "id": "e46ee9a1",
   "metadata": {},
   "outputs": [],
   "source": [
    "dfspam = df[df['label']=='spam']\n",
    "dfham = df[df['label']=='ham']"
   ]
  },
  {
   "cell_type": "code",
   "execution_count": 14,
   "id": "f923828b",
   "metadata": {},
   "outputs": [
    {
     "data": {
      "text/plain": [
       "(array([ 67.,  97., 747., 703., 552., 432., 302., 287., 224., 204., 132.,\n",
       "        126., 133., 126., 111., 109., 164., 118.,  31.,  25.,  14.,  11.,\n",
       "         12.,   3.,   7.,  10.,   8.,   4.,   3.,   2.,  10.,   4.,   7.,\n",
       "          1.,   2.,   7.,   4.,   1.,   1.,   1.,   2.,   3.,   1.,   0.,\n",
       "          1.,   1.,   0.,   1.,   5.,   0.,   2.,   0.,   1.,   0.,   0.,\n",
       "          0.,   0.,   0.,   0.,   0.,   0.,   0.,   0.,   0.,   2.,   0.,\n",
       "          0.,   1.,   0.,   1.,   0.,   0.,   0.,   0.,   0.,   0.,   0.,\n",
       "          0.,   0.,   0.,   0.,   0.,   0.,   0.,   0.,   0.,   1.,   0.,\n",
       "          0.,   0.,   0.,   0.,   0.,   0.,   0.,   0.,   0.,   0.,   0.,\n",
       "          1.]),\n",
       " array([  2.  ,  11.08,  20.16,  29.24,  38.32,  47.4 ,  56.48,  65.56,\n",
       "         74.64,  83.72,  92.8 , 101.88, 110.96, 120.04, 129.12, 138.2 ,\n",
       "        147.28, 156.36, 165.44, 174.52, 183.6 , 192.68, 201.76, 210.84,\n",
       "        219.92, 229.  , 238.08, 247.16, 256.24, 265.32, 274.4 , 283.48,\n",
       "        292.56, 301.64, 310.72, 319.8 , 328.88, 337.96, 347.04, 356.12,\n",
       "        365.2 , 374.28, 383.36, 392.44, 401.52, 410.6 , 419.68, 428.76,\n",
       "        437.84, 446.92, 456.  , 465.08, 474.16, 483.24, 492.32, 501.4 ,\n",
       "        510.48, 519.56, 528.64, 537.72, 546.8 , 555.88, 564.96, 574.04,\n",
       "        583.12, 592.2 , 601.28, 610.36, 619.44, 628.52, 637.6 , 646.68,\n",
       "        655.76, 664.84, 673.92, 683.  , 692.08, 701.16, 710.24, 719.32,\n",
       "        728.4 , 737.48, 746.56, 755.64, 764.72, 773.8 , 782.88, 791.96,\n",
       "        801.04, 810.12, 819.2 , 828.28, 837.36, 846.44, 855.52, 864.6 ,\n",
       "        873.68, 882.76, 891.84, 900.92, 910.  ]),\n",
       " <BarContainer object of 100 artists>)"
      ]
     },
     "execution_count": 14,
     "metadata": {},
     "output_type": "execute_result"
    },
    {
     "data": {
      "image/png": "[encoded data removed]",
      "text/plain": [
       "<Figure size 432x288 with 1 Axes>"
      ]
     },
     "metadata": {
      "needs_background": "light"
     },
     "output_type": "display_data"
    }
   ],
   "source": [
    "plt.hist(dfham['message'].str.len(), bins=100)"
   ]
  },
  {
   "cell_type": "code",
   "execution_count": 15,
   "id": "1d264130",
   "metadata": {},
   "outputs": [
    {
     "data": {
      "text/plain": [
       "(array([ 1.,  0.,  1.,  0.,  0.,  1.,  0.,  0.,  1.,  3.,  0.,  1.,  1.,\n",
       "         2.,  1.,  1.,  4.,  4.,  2.,  0.,  0.,  1.,  0.,  1.,  3.,  1.,\n",
       "         4.,  4.,  6.,  3.,  2.,  0.,  6.,  2.,  3.,  0.,  5.,  0.,  1.,\n",
       "         5.,  4.,  9.,  2.,  4.,  9.,  6.,  6.,  3., 10.,  1., 11., 10.,\n",
       "         5., 10.,  3., 10., 13., 14., 27., 18., 23., 25., 27., 32., 32.,\n",
       "        18., 49., 58., 68., 76., 65.,  6.,  8.,  1.,  2.,  2.,  2.,  2.,\n",
       "         1.,  0.,  3.,  0.,  0.,  0.,  0.,  0.,  0.,  1.,  0.,  0.,  0.,\n",
       "         0.,  0.,  0.,  0.,  0.,  0.,  0.,  0.,  1.]),\n",
       " array([ 13. ,  15.1,  17.2,  19.3,  21.4,  23.5,  25.6,  27.7,  29.8,\n",
       "         31.9,  34. ,  36.1,  38.2,  40.3,  42.4,  44.5,  46.6,  48.7,\n",
       "         50.8,  52.9,  55. ,  57.1,  59.2,  61.3,  63.4,  65.5,  67.6,\n",
       "         69.7,  71.8,  73.9,  76. ,  78.1,  80.2,  82.3,  84.4,  86.5,\n",
       "         88.6,  90.7,  92.8,  94.9,  97. ,  99.1, 101.2, 103.3, 105.4,\n",
       "        107.5, 109.6, 111.7, 113.8, 115.9, 118. , 120.1, 122.2, 124.3,\n",
       "        126.4, 128.5, 130.6, 132.7, 134.8, 136.9, 139. , 141.1, 143.2,\n",
       "        145.3, 147.4, 149.5, 151.6, 153.7, 155.8, 157.9, 160. , 162.1,\n",
       "        164.2, 166.3, 168.4, 170.5, 172.6, 174.7, 176.8, 178.9, 181. ,\n",
       "        183.1, 185.2, 187.3, 189.4, 191.5, 193.6, 195.7, 197.8, 199.9,\n",
       "        202. , 204.1, 206.2, 208.3, 210.4, 212.5, 214.6, 216.7, 218.8,\n",
       "        220.9, 223. ]),\n",
       " <BarContainer object of 100 artists>)"
      ]
     },
     "execution_count": 15,
     "metadata": {},
     "output_type": "execute_result"
    },
    {
     "data": {
      "image/png": "[encoded data removed]",
      "text/plain": [
       "<Figure size 432x288 with 1 Axes>"
      ]
     },
     "metadata": {
      "needs_background": "light"
     },
     "output_type": "display_data"
    }
   ],
   "source": [
    "plt.hist(dfspam['message'].str.len(), bins=100)"
   ]
  },
  {
   "cell_type": "markdown",
   "id": "c0b7eaff",
   "metadata": {},
   "source": [
    "On remarque que les spams et les hams forment deux piques distincts. La longueur semble être un indicateur pour différencier les spams et hams"
   ]
  },
  {
   "cell_type": "markdown",
   "id": "9f95245f",
   "metadata": {},
   "source": [
    "# # Pre processing"
   ]
  },
  {
   "cell_type": "markdown",
   "id": "df35b0ce",
   "metadata": {},
   "source": [
    "Ajoutons une colonne contenant la longueur des messages"
   ]
  },
  {
   "cell_type": "code",
   "execution_count": 16,
   "id": "65dd00b5",
   "metadata": {},
   "outputs": [],
   "source": [
    "df.insert(2, \"length\", \"0\")\n",
    "for x in range(df.message.size):\n",
    "       df.length.array[x] = len(df.message.array[x])\n"
   ]
  },
  {
   "cell_type": "markdown",
   "id": "429d9e25",
   "metadata": {},
   "source": [
    "Création de countColumn. Cette fonction permet de rajouter une colonne nommé 'namecol'. Ell contiendras pour chaque message du df, le nombre d'occurence du 'code' regex y apparaisant.\n",
    "\n",
    "Création de ColumnCountCreator. C'est une classe qui implemente les classes nécéssaire pour être inclus dans un pipeline.\n",
    "Comme pour countColum, dans l'initialisation, il demande un code regex et un nom de colonne pour la créer.\n",
    "Sa fonction fit ne fait rien.\n",
    "Sa fonction transform crée la colonne d'occurence du code dans ledf renseigné."
   ]
  },
  {
   "cell_type": "code",
   "execution_count": 17,
   "id": "15d002ea",
   "metadata": {},
   "outputs": [],
   "source": [
    "def countColumn(code, namecol, df =df):\n",
    "    n=0\n",
    "    df.insert(1, namecol, 0, allow_duplicates=False)\n",
    "    for line in df['message']: # Parcours des lignes\n",
    "        x = re.findall(code, line)\n",
    "        if x:\n",
    "            df[namecol].array[n] = len(x)\n",
    "        n+=1    \n",
    "\n",
    "\n",
    "class ColumnCountCreator(BaseEstimator,TransformerMixin):\n",
    "    def __init__(self, code, namecol):\n",
    "        self.code = code\n",
    "        self.namecol =namecol\n",
    "    \n",
    "    def fit(self, X, y =None):\n",
    "        return self\n",
    "    \n",
    "    def transform(self, X, y =None):\n",
    "        df = X.copy()\n",
    "        n=0\n",
    "        df.insert(1, self.namecol, 0, allow_duplicates=False)\n",
    "        for line in df['message']: # Parcours des lignes\n",
    "            x = re.findall(self.code, line)\n",
    "            if x:\n",
    "                df[self.namecol].array[n] = len(x)\n",
    "            n+=1   \n",
    "        return df"
   ]
  },
  {
   "cell_type": "markdown",
   "id": "67bac9bb",
   "metadata": {},
   "source": [
    "Création des colonnes et sauvegarde du tout sous une pipeline"
   ]
  },
  {
   "cell_type": "code",
   "execution_count": 115,
   "id": "70aaae88",
   "metadata": {},
   "outputs": [],
   "source": [
    "\n",
    "transfo_col = Pipeline(steps=[\n",
    "    ('freeCol', ColumnCountCreator(\"(?i)(FREE)\", \"free\")),\n",
    "    ('phoneCol', ColumnCountCreator(\"[0-9]{10}\", \"phone\")),\n",
    "    ('prizeCol', ColumnCountCreator(\"(?i)(prize)\", \"prize\")),\n",
    "    ('giveCol', ColumnCountCreator(\"(?i)(give)\", \"give\")),\n",
    "    ('devCol', ColumnCountCreator(\"£|\\$\", \"devise\")),\n",
    "    ('txtCol', ColumnCountCreator(\"txt\", \"text\")),\n",
    "    ('replyCol', ColumnCountCreator(\"(?i)(reply)\", \"reply\"))\n",
    "])\n",
    "pipedf =transfo_col.fit_transform(df)\n"
   ]
  },
  {
   "cell_type": "code",
   "execution_count": 116,
   "id": "911efce7",
   "metadata": {},
   "outputs": [
    {
     "data": {
      "text/html": [
       "<div>\n",
       "<style scoped>\n",
       "    .dataframe tbody tr th:only-of-type {\n",
       "        vertical-align: middle;\n",
       "    }\n",
       "\n",
       "    .dataframe tbody tr th {\n",
       "        vertical-align: top;\n",
       "    }\n",
       "\n",
       "    .dataframe thead th {\n",
       "        text-align: right;\n",
       "    }\n",
       "</style>\n",
       "<table border=\"1\" class=\"dataframe\">\n",
       "  <thead>\n",
       "    <tr style=\"text-align: right;\">\n",
       "      <th></th>\n",
       "      <th>label</th>\n",
       "      <th>reply</th>\n",
       "      <th>text</th>\n",
       "      <th>devise</th>\n",
       "      <th>give</th>\n",
       "      <th>prize</th>\n",
       "      <th>phone</th>\n",
       "      <th>free</th>\n",
       "      <th>message</th>\n",
       "      <th>length</th>\n",
       "    </tr>\n",
       "  </thead>\n",
       "  <tbody>\n",
       "    <tr>\n",
       "      <th>0</th>\n",
       "      <td>ham</td>\n",
       "      <td>0</td>\n",
       "      <td>0</td>\n",
       "      <td>0</td>\n",
       "      <td>0</td>\n",
       "      <td>0</td>\n",
       "      <td>0</td>\n",
       "      <td>0</td>\n",
       "      <td>Go until jurong point, crazy.. Available only ...</td>\n",
       "      <td>111</td>\n",
       "    </tr>\n",
       "    <tr>\n",
       "      <th>1</th>\n",
       "      <td>ham</td>\n",
       "      <td>0</td>\n",
       "      <td>0</td>\n",
       "      <td>0</td>\n",
       "      <td>0</td>\n",
       "      <td>0</td>\n",
       "      <td>0</td>\n",
       "      <td>0</td>\n",
       "      <td>Ok lar... Joking wif u oni...</td>\n",
       "      <td>29</td>\n",
       "    </tr>\n",
       "    <tr>\n",
       "      <th>2</th>\n",
       "      <td>spam</td>\n",
       "      <td>0</td>\n",
       "      <td>1</td>\n",
       "      <td>0</td>\n",
       "      <td>0</td>\n",
       "      <td>0</td>\n",
       "      <td>1</td>\n",
       "      <td>1</td>\n",
       "      <td>Free entry in 2 a wkly comp to win FA Cup fina...</td>\n",
       "      <td>155</td>\n",
       "    </tr>\n",
       "    <tr>\n",
       "      <th>3</th>\n",
       "      <td>ham</td>\n",
       "      <td>0</td>\n",
       "      <td>0</td>\n",
       "      <td>0</td>\n",
       "      <td>0</td>\n",
       "      <td>0</td>\n",
       "      <td>0</td>\n",
       "      <td>0</td>\n",
       "      <td>U dun say so early hor... U c already then say...</td>\n",
       "      <td>49</td>\n",
       "    </tr>\n",
       "    <tr>\n",
       "      <th>4</th>\n",
       "      <td>ham</td>\n",
       "      <td>0</td>\n",
       "      <td>0</td>\n",
       "      <td>0</td>\n",
       "      <td>0</td>\n",
       "      <td>0</td>\n",
       "      <td>0</td>\n",
       "      <td>0</td>\n",
       "      <td>Nah I don't think he goes to usf, he lives aro...</td>\n",
       "      <td>61</td>\n",
       "    </tr>\n",
       "  </tbody>\n",
       "</table>\n",
       "</div>"
      ],
      "text/plain": [
       "  label  reply  text  devise  give  prize  phone  free  \\\n",
       "0   ham      0     0       0     0      0      0     0   \n",
       "1   ham      0     0       0     0      0      0     0   \n",
       "2  spam      0     1       0     0      0      1     1   \n",
       "3   ham      0     0       0     0      0      0     0   \n",
       "4   ham      0     0       0     0      0      0     0   \n",
       "\n",
       "                                             message length  \n",
       "0  Go until jurong point, crazy.. Available only ...    111  \n",
       "1                      Ok lar... Joking wif u oni...     29  \n",
       "2  Free entry in 2 a wkly comp to win FA Cup fina...    155  \n",
       "3  U dun say so early hor... U c already then say...     49  \n",
       "4  Nah I don't think he goes to usf, he lives aro...     61  "
      ]
     },
     "execution_count": 116,
     "metadata": {},
     "output_type": "execute_result"
    }
   ],
   "source": [
    "pipedf.head()"
   ]
  },
  {
   "cell_type": "markdown",
   "id": "251cd7dd",
   "metadata": {},
   "source": [
    "Encodage et standardisation des colonnes"
   ]
  },
  {
   "cell_type": "code",
   "execution_count": 117,
   "id": "230f2c05",
   "metadata": {},
   "outputs": [
    {
     "data": {
      "text/html": [
       "<div>\n",
       "<style scoped>\n",
       "    .dataframe tbody tr th:only-of-type {\n",
       "        vertical-align: middle;\n",
       "    }\n",
       "\n",
       "    .dataframe tbody tr th {\n",
       "        vertical-align: top;\n",
       "    }\n",
       "\n",
       "    .dataframe thead th {\n",
       "        text-align: right;\n",
       "    }\n",
       "</style>\n",
       "<table border=\"1\" class=\"dataframe\">\n",
       "  <thead>\n",
       "    <tr style=\"text-align: right;\">\n",
       "      <th></th>\n",
       "      <th>length</th>\n",
       "      <th>free</th>\n",
       "      <th>phone</th>\n",
       "      <th>prize</th>\n",
       "      <th>give</th>\n",
       "      <th>devise</th>\n",
       "      <th>text</th>\n",
       "      <th>reply</th>\n",
       "    </tr>\n",
       "  </thead>\n",
       "  <tbody>\n",
       "    <tr>\n",
       "      <th>0</th>\n",
       "      <td>111</td>\n",
       "      <td>0</td>\n",
       "      <td>0</td>\n",
       "      <td>0</td>\n",
       "      <td>0</td>\n",
       "      <td>0</td>\n",
       "      <td>0</td>\n",
       "      <td>0</td>\n",
       "    </tr>\n",
       "    <tr>\n",
       "      <th>1</th>\n",
       "      <td>29</td>\n",
       "      <td>0</td>\n",
       "      <td>0</td>\n",
       "      <td>0</td>\n",
       "      <td>0</td>\n",
       "      <td>0</td>\n",
       "      <td>0</td>\n",
       "      <td>0</td>\n",
       "    </tr>\n",
       "    <tr>\n",
       "      <th>2</th>\n",
       "      <td>155</td>\n",
       "      <td>1</td>\n",
       "      <td>1</td>\n",
       "      <td>0</td>\n",
       "      <td>0</td>\n",
       "      <td>0</td>\n",
       "      <td>1</td>\n",
       "      <td>0</td>\n",
       "    </tr>\n",
       "    <tr>\n",
       "      <th>3</th>\n",
       "      <td>49</td>\n",
       "      <td>0</td>\n",
       "      <td>0</td>\n",
       "      <td>0</td>\n",
       "      <td>0</td>\n",
       "      <td>0</td>\n",
       "      <td>0</td>\n",
       "      <td>0</td>\n",
       "    </tr>\n",
       "    <tr>\n",
       "      <th>4</th>\n",
       "      <td>61</td>\n",
       "      <td>0</td>\n",
       "      <td>0</td>\n",
       "      <td>0</td>\n",
       "      <td>0</td>\n",
       "      <td>0</td>\n",
       "      <td>0</td>\n",
       "      <td>0</td>\n",
       "    </tr>\n",
       "    <tr>\n",
       "      <th>...</th>\n",
       "      <td>...</td>\n",
       "      <td>...</td>\n",
       "      <td>...</td>\n",
       "      <td>...</td>\n",
       "      <td>...</td>\n",
       "      <td>...</td>\n",
       "      <td>...</td>\n",
       "      <td>...</td>\n",
       "    </tr>\n",
       "    <tr>\n",
       "      <th>5567</th>\n",
       "      <td>160</td>\n",
       "      <td>0</td>\n",
       "      <td>1</td>\n",
       "      <td>1</td>\n",
       "      <td>0</td>\n",
       "      <td>1</td>\n",
       "      <td>0</td>\n",
       "      <td>0</td>\n",
       "    </tr>\n",
       "    <tr>\n",
       "      <th>5568</th>\n",
       "      <td>36</td>\n",
       "      <td>0</td>\n",
       "      <td>0</td>\n",
       "      <td>0</td>\n",
       "      <td>0</td>\n",
       "      <td>0</td>\n",
       "      <td>0</td>\n",
       "      <td>0</td>\n",
       "    </tr>\n",
       "    <tr>\n",
       "      <th>5569</th>\n",
       "      <td>57</td>\n",
       "      <td>0</td>\n",
       "      <td>0</td>\n",
       "      <td>0</td>\n",
       "      <td>0</td>\n",
       "      <td>0</td>\n",
       "      <td>0</td>\n",
       "      <td>0</td>\n",
       "    </tr>\n",
       "    <tr>\n",
       "      <th>5570</th>\n",
       "      <td>125</td>\n",
       "      <td>1</td>\n",
       "      <td>0</td>\n",
       "      <td>0</td>\n",
       "      <td>0</td>\n",
       "      <td>0</td>\n",
       "      <td>0</td>\n",
       "      <td>0</td>\n",
       "    </tr>\n",
       "    <tr>\n",
       "      <th>5571</th>\n",
       "      <td>26</td>\n",
       "      <td>0</td>\n",
       "      <td>0</td>\n",
       "      <td>0</td>\n",
       "      <td>0</td>\n",
       "      <td>0</td>\n",
       "      <td>0</td>\n",
       "      <td>0</td>\n",
       "    </tr>\n",
       "  </tbody>\n",
       "</table>\n",
       "<p>5572 rows × 8 columns</p>\n",
       "</div>"
      ],
      "text/plain": [
       "     length  free  phone  prize  give  devise  text  reply\n",
       "0       111     0      0      0     0       0     0      0\n",
       "1        29     0      0      0     0       0     0      0\n",
       "2       155     1      1      0     0       0     1      0\n",
       "3        49     0      0      0     0       0     0      0\n",
       "4        61     0      0      0     0       0     0      0\n",
       "...     ...   ...    ...    ...   ...     ...   ...    ...\n",
       "5567    160     0      1      1     0       1     0      0\n",
       "5568     36     0      0      0     0       0     0      0\n",
       "5569     57     0      0      0     0       0     0      0\n",
       "5570    125     1      0      0     0       0     0      0\n",
       "5571     26     0      0      0     0       0     0      0\n",
       "\n",
       "[5572 rows x 8 columns]"
      ]
     },
     "execution_count": 117,
     "metadata": {},
     "output_type": "execute_result"
    }
   ],
   "source": [
    "from sklearn.preprocessing import LabelEncoder\n",
    "column_cat = ['label']\n",
    "\n",
    "label_encod = LabelEncoder()\n",
    "dfe =label_encod.fit_transform(pipedf['label'])\n",
    "y = dfe\n",
    "paramCol = ['length','free','phone','prize','give','devise','text','reply']\n",
    "Xdf =pipedf[paramCol]\n",
    "\n",
    "standardis = Pipeline(steps=[('scaler', StandardScaler())])\n",
    "X=standardis.fit_transform(Xdf)\n",
    "Xdf"
   ]
  },
  {
   "cell_type": "markdown",
   "id": "9de70e23",
   "metadata": {},
   "source": [
    "# # Modeling"
   ]
  },
  {
   "cell_type": "markdown",
   "id": "2ae84a9e",
   "metadata": {},
   "source": [
    "Classifiertest permet de tester des classifier et d'afficher la précision et la matrice de confusion.\n",
    "Le split des donnée est aussi inclu.\n",
    "\n",
    "La précision et prise car on souhaite éviter de mettre en spam de vrais message qui en seront ignoré."
   ]
  },
  {
   "cell_type": "code",
   "execution_count": 109,
   "id": "7b4c7c7f",
   "metadata": {},
   "outputs": [],
   "source": [
    "from sklearn.metrics import confusion_matrix, accuracy_score\n",
    "from sklearn.metrics import plot_confusion_matrix\n",
    "from sklearn.model_selection import train_test_split\n",
    "\n",
    "def classifiertest(classifier, X, y, testset_size=0.25):\n",
    "    X_train, X_test, y_train, y_test = train_test_split(X, y, test_size=testset_size, random_state=37, stratify=y)\n",
    "    classifier.fit(X_train, y_train)\n",
    "    prediction = classifier.predict(X_test)\n",
    "    # Compute the accuracy (in %)\n",
    "    accuracy = precision_score(y_test, prediction)*100\n",
    "    # Let's see the global performance\n",
    "    print('Precision of our model is equal ' + str(round(accuracy, 2)) + ' %.')\n",
    "    plot_confusion_matrix(classifier, X_test, y_test,\n",
    "                                 cmap=plt.cm.summer, # other color palettes : https://matplotlib.org/3.1.0/tutorials/colors/colormaps.html\n",
    "                                 normalize=None)\n",
    "\n",
    "\n"
   ]
  },
  {
   "cell_type": "markdown",
   "id": "f30c9a72",
   "metadata": {},
   "source": [
    "Test de différent classifier"
   ]
  },
  {
   "cell_type": "code",
   "execution_count": 22,
   "id": "c38f53e6",
   "metadata": {},
   "outputs": [
    {
     "name": "stdout",
     "output_type": "stream",
     "text": [
      "Precision of our model is equal 90.36 %.\n"
     ]
    },
    {
     "data": {
      "image/png": "[encoded data removed]",
      "text/plain": [
       "<Figure size 432x288 with 2 Axes>"
      ]
     },
     "metadata": {
      "needs_background": "light"
     },
     "output_type": "display_data"
    }
   ],
   "source": [
    "from sklearn.neighbors import KNeighborsClassifier\n",
    "# Initialisation with the choice of k = 3\n",
    "KNN_classifier = KNeighborsClassifier(n_neighbors=5)\n",
    "classifiertest(KNN_classifier, X, y)"
   ]
  },
  {
   "cell_type": "code",
   "execution_count": 23,
   "id": "1f62ca7e",
   "metadata": {},
   "outputs": [
    {
     "name": "stdout",
     "output_type": "stream",
     "text": [
      "Precision of our model is equal 91.88 %.\n"
     ]
    },
    {
     "data": {
      "image/png": "[encoded data removed]",
      "text/plain": [
       "<Figure size 432x288 with 2 Axes>"
      ]
     },
     "metadata": {
      "needs_background": "light"
     },
     "output_type": "display_data"
    }
   ],
   "source": [
    "from sklearn import tree\n",
    "clf = tree.DecisionTreeClassifier()\n",
    "classifiertest(clf, X, y)"
   ]
  },
  {
   "cell_type": "code",
   "execution_count": 24,
   "id": "128c1b4d",
   "metadata": {},
   "outputs": [
    {
     "name": "stdout",
     "output_type": "stream",
     "text": [
      "Precision of our model is equal 92.16 %.\n"
     ]
    },
    {
     "data": {
      "image/png": "[encoded data removed]",
      "text/plain": [
       "<Figure size 432x288 with 2 Axes>"
      ]
     },
     "metadata": {
      "needs_background": "light"
     },
     "output_type": "display_data"
    }
   ],
   "source": [
    "from sklearn.linear_model import LogisticRegression\n",
    "lr=LogisticRegression(max_iter=10000)\n",
    "classifiertest(lr, X, y)"
   ]
  },
  {
   "cell_type": "code",
   "execution_count": 25,
   "id": "7ecc9577",
   "metadata": {},
   "outputs": [
    {
     "name": "stdout",
     "output_type": "stream",
     "text": [
      "Precision of our model is equal 94.74 %.\n"
     ]
    },
    {
     "data": {
      "image/png": "[encoded data removed]",
      "text/plain": [
       "<Figure size 432x288 with 2 Axes>"
      ]
     },
     "metadata": {
      "needs_background": "light"
     },
     "output_type": "display_data"
    }
   ],
   "source": [
    "from sklearn.naive_bayes import MultinomialNB\n",
    "nb=MultinomialNB()\n",
    "classifiertest(nb, Xdf, y)"
   ]
  },
  {
   "cell_type": "markdown",
   "id": "7f93f8f1",
   "metadata": {},
   "source": [
    "Ce code à été mis pour tester la tokenisation de chaque terme.\n",
    "CleanText prend un text. Il enleve la ponctuation.\n",
    "Il prend chaque mots qu'il passe en minuscule et filtre en enlevant les stopwords.\n",
    "Il stem chaque mot. La fonction stem permet de récpéré la racine des mots (exemple programmation et programmer a la même racine)\n",
    "Il retourne ensuite la liste des mots."
   ]
  },
  {
   "cell_type": "code",
   "execution_count": 26,
   "id": "92443fd1",
   "metadata": {},
   "outputs": [],
   "source": [
    "from nltk.stem import SnowballStemmer\n",
    "from nltk.corpus import stopwords\n",
    "import nltk\n",
    "import string\n",
    "stemmer = SnowballStemmer(\"english\")\n",
    "\n",
    "def cleanText(message):\n",
    "    \n",
    "    message = message.translate(str.maketrans('', '', string.punctuation))\n",
    "    words = [stemmer.stem(word) for word in message.split() if word.lower() not in stopwords.words(\"english\")]\n",
    "    \n",
    "    return \" \".join(words)\n",
    "\n"
   ]
  },
  {
   "cell_type": "markdown",
   "id": "c3160040",
   "metadata": {},
   "source": [
    "On peut ensuite vectoriser le resultat pour avoir un autre dataframe.\n",
    "Le nouveaux dataframe contenait plus de 8000 parrametre numérique"
   ]
  },
  {
   "cell_type": "code",
   "execution_count": 27,
   "id": "be145c63",
   "metadata": {},
   "outputs": [],
   "source": [
    "#Xnlp = df['message'].apply(cleanText)"
   ]
  },
  {
   "cell_type": "code",
   "execution_count": 28,
   "id": "43c34d60",
   "metadata": {},
   "outputs": [],
   "source": [
    "#from sklearn.feature_extraction.text import CountVectorizer\n",
    "#cv=CountVectorizer()\n",
    "#Xnlp=cv.fit_transform(Xnlp)"
   ]
  },
  {
   "cell_type": "markdown",
   "id": "67e3335d",
   "metadata": {},
   "source": [
    "Ensuite pour optimiser un model. On a mis en place un grid searche sur un decision Classifier"
   ]
  },
  {
   "cell_type": "code",
   "execution_count": 118,
   "id": "537bf3e1",
   "metadata": {},
   "outputs": [
    {
     "data": {
      "text/plain": [
       "GridSearchCV(cv=None, error_score=nan,\n",
       "             estimator=RidgeClassifier(alpha=1.0, class_weight=None,\n",
       "                                       copy_X=True, fit_intercept=True,\n",
       "                                       max_iter=None, normalize=False,\n",
       "                                       random_state=None, solver='auto',\n",
       "                                       tol=0.001),\n",
       "             iid='deprecated', n_jobs=None,\n",
       "             param_grid={'alpha': (0, 0.5, 1),\n",
       "                         'solver': ('auto', 'svd', 'cholesky', 'lsqr',\n",
       "                                    'sparse_cg', 'sag', 'saga', 'lbfgs')},\n",
       "             pre_dispatch='2*n_jobs', refit=True, return_train_score=False,\n",
       "             scoring='precision', verbose=0)"
      ]
     },
     "execution_count": 118,
     "metadata": {},
     "output_type": "execute_result"
    }
   ],
   "source": [
    "\n",
    "from sklearn.model_selection import GridSearchCV\n",
    "from sklearn.linear_model import RidgeClassifier\n",
    "\n",
    "#parameters = {'max_features':('auto', 'sqrt','log2'), 'max_depth':range(5, 25, 1)}\n",
    "#clt = tree.DecisionTreeClassifier()\n",
    "#parameters = {'alpha':(0, 0.5 ,1), 'fit_prior':(0,1)}\n",
    "#clt = MultinomialNB()\n",
    "parameters = {'alpha':(0, 0.5 ,1), 'solver' :('auto', 'svd', 'cholesky', 'lsqr', 'sparse_cg', 'sag', 'saga', 'lbfgs')}\n",
    "clt = RidgeClassifier() #0.9776\n",
    "\n",
    "clt = GridSearchCV(clt, parameters, scoring=\"precision\")\n",
    "X_train, X_test, y_train, y_test = train_test_split(Xdf, y, test_size=0.25, random_state=37, stratify=y)\n",
    "clt.fit(X_train, y_train)\n",
    "\n"
   ]
  },
  {
   "cell_type": "code",
   "execution_count": 119,
   "id": "cc1f2754",
   "metadata": {},
   "outputs": [
    {
     "data": {
      "text/plain": [
       "0.9741932785411047"
      ]
     },
     "execution_count": 119,
     "metadata": {},
     "output_type": "execute_result"
    }
   ],
   "source": [
    "clt.best_score_"
   ]
  },
  {
   "cell_type": "code",
   "execution_count": 120,
   "id": "09fb70ed",
   "metadata": {},
   "outputs": [
    {
     "data": {
      "text/plain": [
       "{'alpha': 0, 'solver': 'lsqr'}"
      ]
     },
     "execution_count": 120,
     "metadata": {},
     "output_type": "execute_result"
    }
   ],
   "source": [
    "clt.best_params_"
   ]
  },
  {
   "cell_type": "code",
   "execution_count": 121,
   "id": "e282b533",
   "metadata": {},
   "outputs": [
    {
     "name": "stdout",
     "output_type": "stream",
     "text": [
      "Precision of our model is equal 97.76 %.\n"
     ]
    },
    {
     "data": {
      "image/png": "[encoded data removed]",
      "text/plain": [
       "<Figure size 576x396 with 2 Axes>"
      ]
     },
     "metadata": {},
     "output_type": "display_data"
    }
   ],
   "source": [
    "classifiertest(clt, X, y)"
   ]
  },
  {
   "cell_type": "markdown",
   "id": "521f01ca",
   "metadata": {},
   "source": [
    "Nous avons donc un meilleur Tree Classifier. Testons le. On laisse l'utilisateur saisir un message."
   ]
  },
  {
   "cell_type": "code",
   "execution_count": 129,
   "id": "ad9e641f",
   "metadata": {},
   "outputs": [
    {
     "name": "stdout",
     "output_type": "stream",
     "text": [
      "Write the SMS to test\n",
      "you win a free prise, wait.. please i'm not a spam please... nooo!\n"
     ]
    }
   ],
   "source": [
    "print(\"Write the SMS to test\")\n",
    "mss = input()\n"
   ]
  },
  {
   "cell_type": "markdown",
   "id": "4f42264b",
   "metadata": {},
   "source": [
    "Ensuite le message est transformer pour répondre au attente du modele"
   ]
  },
  {
   "cell_type": "code",
   "execution_count": 130,
   "id": "cc19bd6f",
   "metadata": {},
   "outputs": [
    {
     "data": {
      "text/html": [
       "<div>\n",
       "<style scoped>\n",
       "    .dataframe tbody tr th:only-of-type {\n",
       "        vertical-align: middle;\n",
       "    }\n",
       "\n",
       "    .dataframe tbody tr th {\n",
       "        vertical-align: top;\n",
       "    }\n",
       "\n",
       "    .dataframe thead th {\n",
       "        text-align: right;\n",
       "    }\n",
       "</style>\n",
       "<table border=\"1\" class=\"dataframe\">\n",
       "  <thead>\n",
       "    <tr style=\"text-align: right;\">\n",
       "      <th></th>\n",
       "      <th>length</th>\n",
       "      <th>free</th>\n",
       "      <th>phone</th>\n",
       "      <th>prize</th>\n",
       "      <th>give</th>\n",
       "      <th>devise</th>\n",
       "      <th>text</th>\n",
       "      <th>reply</th>\n",
       "    </tr>\n",
       "  </thead>\n",
       "  <tbody>\n",
       "    <tr>\n",
       "      <th>0</th>\n",
       "      <td>66</td>\n",
       "      <td>1</td>\n",
       "      <td>0</td>\n",
       "      <td>0</td>\n",
       "      <td>0</td>\n",
       "      <td>0</td>\n",
       "      <td>0</td>\n",
       "      <td>0</td>\n",
       "    </tr>\n",
       "  </tbody>\n",
       "</table>\n",
       "</div>"
      ],
      "text/plain": [
       "   length  free  phone  prize  give  devise  text  reply\n",
       "0      66     1      0      0     0       0     0      0"
      ]
     },
     "execution_count": 130,
     "metadata": {},
     "output_type": "execute_result"
    }
   ],
   "source": [
    "mssdt = {'message': [mss]}\n",
    "mssdf = pd.DataFrame(mssdt)  \n",
    "mssdf.insert(1, \"length\", len(mss), allow_duplicates=False)\n",
    "mssdf =transfo_col.fit_transform(mssdf)\n",
    "Xpred =mssdf[paramCol]\n",
    "Xpred"
   ]
  },
  {
   "cell_type": "markdown",
   "id": "31ece8e0",
   "metadata": {},
   "source": [
    "On fait tourner le modele qui nous donne sa prédiction sur le message"
   ]
  },
  {
   "cell_type": "code",
   "execution_count": 131,
   "id": "fd1b0e14",
   "metadata": {},
   "outputs": [
    {
     "data": {
      "text/plain": [
       "array(['spam'], dtype=object)"
      ]
     },
     "execution_count": 131,
     "metadata": {},
     "output_type": "execute_result"
    }
   ],
   "source": [
    "res = clt.predict(Xpred)\n",
    "label_encod.inverse_transform(res)"
   ]
  },
  {
   "cell_type": "markdown",
   "id": "b1d521be",
   "metadata": {},
   "source": [
    "# Un tour sur pycaret\n"
   ]
  },
  {
   "cell_type": "markdown",
   "id": "2260f683",
   "metadata": {},
   "source": [
    "On utilise pycaret pour tenter de reveler des domaine plus avantageux."
   ]
  },
  {
   "cell_type": "code",
   "execution_count": 37,
   "id": "c64b323a",
   "metadata": {},
   "outputs": [
    {
     "data": {
      "text/html": [
       "<style type=\"text/css\">\n",
       "#T_5e2b1_row44_col1 {\n",
       "  background-color: lightgreen;\n",
       "}\n",
       "</style>\n",
       "<table id=\"T_5e2b1\">\n",
       "  <thead>\n",
       "    <tr>\n",
       "      <th class=\"blank level0\" >&nbsp;</th>\n",
       "      <th id=\"T_5e2b1_level0_col0\" class=\"col_heading level0 col0\" >Description</th>\n",
       "      <th id=\"T_5e2b1_level0_col1\" class=\"col_heading level0 col1\" >Value</th>\n",
       "    </tr>\n",
       "  </thead>\n",
       "  <tbody>\n",
       "    <tr>\n",
       "      <th id=\"T_5e2b1_level0_row0\" class=\"row_heading level0 row0\" >0</th>\n",
       "      <td id=\"T_5e2b1_row0_col0\" class=\"data row0 col0\" >session_id</td>\n",
       "      <td id=\"T_5e2b1_row0_col1\" class=\"data row0 col1\" >123</td>\n",
       "    </tr>\n",
       "    <tr>\n",
       "      <th id=\"T_5e2b1_level0_row1\" class=\"row_heading level0 row1\" >1</th>\n",
       "      <td id=\"T_5e2b1_row1_col0\" class=\"data row1 col0\" >Target</td>\n",
       "      <td id=\"T_5e2b1_row1_col1\" class=\"data row1 col1\" >label</td>\n",
       "    </tr>\n",
       "    <tr>\n",
       "      <th id=\"T_5e2b1_level0_row2\" class=\"row_heading level0 row2\" >2</th>\n",
       "      <td id=\"T_5e2b1_row2_col0\" class=\"data row2 col0\" >Target Type</td>\n",
       "      <td id=\"T_5e2b1_row2_col1\" class=\"data row2 col1\" >Binary</td>\n",
       "    </tr>\n",
       "    <tr>\n",
       "      <th id=\"T_5e2b1_level0_row3\" class=\"row_heading level0 row3\" >3</th>\n",
       "      <td id=\"T_5e2b1_row3_col0\" class=\"data row3 col0\" >Label Encoded</td>\n",
       "      <td id=\"T_5e2b1_row3_col1\" class=\"data row3 col1\" >ham: 0, spam: 1</td>\n",
       "    </tr>\n",
       "    <tr>\n",
       "      <th id=\"T_5e2b1_level0_row4\" class=\"row_heading level0 row4\" >4</th>\n",
       "      <td id=\"T_5e2b1_row4_col0\" class=\"data row4 col0\" >Original Data</td>\n",
       "      <td id=\"T_5e2b1_row4_col1\" class=\"data row4 col1\" >(5572, 10)</td>\n",
       "    </tr>\n",
       "    <tr>\n",
       "      <th id=\"T_5e2b1_level0_row5\" class=\"row_heading level0 row5\" >5</th>\n",
       "      <td id=\"T_5e2b1_row5_col0\" class=\"data row5 col0\" >Missing Values</td>\n",
       "      <td id=\"T_5e2b1_row5_col1\" class=\"data row5 col1\" >0</td>\n",
       "    </tr>\n",
       "    <tr>\n",
       "      <th id=\"T_5e2b1_level0_row6\" class=\"row_heading level0 row6\" >6</th>\n",
       "      <td id=\"T_5e2b1_row6_col0\" class=\"data row6 col0\" >Numeric Features</td>\n",
       "      <td id=\"T_5e2b1_row6_col1\" class=\"data row6 col1\" >1</td>\n",
       "    </tr>\n",
       "    <tr>\n",
       "      <th id=\"T_5e2b1_level0_row7\" class=\"row_heading level0 row7\" >7</th>\n",
       "      <td id=\"T_5e2b1_row7_col0\" class=\"data row7 col0\" >Categorical Features</td>\n",
       "      <td id=\"T_5e2b1_row7_col1\" class=\"data row7 col1\" >8</td>\n",
       "    </tr>\n",
       "    <tr>\n",
       "      <th id=\"T_5e2b1_level0_row8\" class=\"row_heading level0 row8\" >8</th>\n",
       "      <td id=\"T_5e2b1_row8_col0\" class=\"data row8 col0\" >Ordinal Features</td>\n",
       "      <td id=\"T_5e2b1_row8_col1\" class=\"data row8 col1\" >0</td>\n",
       "    </tr>\n",
       "    <tr>\n",
       "      <th id=\"T_5e2b1_level0_row9\" class=\"row_heading level0 row9\" >9</th>\n",
       "      <td id=\"T_5e2b1_row9_col0\" class=\"data row9 col0\" >High Cardinality Features</td>\n",
       "      <td id=\"T_5e2b1_row9_col1\" class=\"data row9 col1\" >0</td>\n",
       "    </tr>\n",
       "    <tr>\n",
       "      <th id=\"T_5e2b1_level0_row10\" class=\"row_heading level0 row10\" >10</th>\n",
       "      <td id=\"T_5e2b1_row10_col0\" class=\"data row10 col0\" >High Cardinality Method</td>\n",
       "      <td id=\"T_5e2b1_row10_col1\" class=\"data row10 col1\" >None</td>\n",
       "    </tr>\n",
       "    <tr>\n",
       "      <th id=\"T_5e2b1_level0_row11\" class=\"row_heading level0 row11\" >11</th>\n",
       "      <td id=\"T_5e2b1_row11_col0\" class=\"data row11 col0\" >Transformed Train Set</td>\n",
       "      <td id=\"T_5e2b1_row11_col1\" class=\"data row11 col1\" >(3900, 3720)</td>\n",
       "    </tr>\n",
       "    <tr>\n",
       "      <th id=\"T_5e2b1_level0_row12\" class=\"row_heading level0 row12\" >12</th>\n",
       "      <td id=\"T_5e2b1_row12_col0\" class=\"data row12 col0\" >Transformed Test Set</td>\n",
       "      <td id=\"T_5e2b1_row12_col1\" class=\"data row12 col1\" >(1672, 3720)</td>\n",
       "    </tr>\n",
       "    <tr>\n",
       "      <th id=\"T_5e2b1_level0_row13\" class=\"row_heading level0 row13\" >13</th>\n",
       "      <td id=\"T_5e2b1_row13_col0\" class=\"data row13 col0\" >Shuffle Train-Test</td>\n",
       "      <td id=\"T_5e2b1_row13_col1\" class=\"data row13 col1\" >True</td>\n",
       "    </tr>\n",
       "    <tr>\n",
       "      <th id=\"T_5e2b1_level0_row14\" class=\"row_heading level0 row14\" >14</th>\n",
       "      <td id=\"T_5e2b1_row14_col0\" class=\"data row14 col0\" >Stratify Train-Test</td>\n",
       "      <td id=\"T_5e2b1_row14_col1\" class=\"data row14 col1\" >False</td>\n",
       "    </tr>\n",
       "    <tr>\n",
       "      <th id=\"T_5e2b1_level0_row15\" class=\"row_heading level0 row15\" >15</th>\n",
       "      <td id=\"T_5e2b1_row15_col0\" class=\"data row15 col0\" >Fold Generator</td>\n",
       "      <td id=\"T_5e2b1_row15_col1\" class=\"data row15 col1\" >StratifiedKFold</td>\n",
       "    </tr>\n",
       "    <tr>\n",
       "      <th id=\"T_5e2b1_level0_row16\" class=\"row_heading level0 row16\" >16</th>\n",
       "      <td id=\"T_5e2b1_row16_col0\" class=\"data row16 col0\" >Fold Number</td>\n",
       "      <td id=\"T_5e2b1_row16_col1\" class=\"data row16 col1\" >10</td>\n",
       "    </tr>\n",
       "    <tr>\n",
       "      <th id=\"T_5e2b1_level0_row17\" class=\"row_heading level0 row17\" >17</th>\n",
       "      <td id=\"T_5e2b1_row17_col0\" class=\"data row17 col0\" >CPU Jobs</td>\n",
       "      <td id=\"T_5e2b1_row17_col1\" class=\"data row17 col1\" >-1</td>\n",
       "    </tr>\n",
       "    <tr>\n",
       "      <th id=\"T_5e2b1_level0_row18\" class=\"row_heading level0 row18\" >18</th>\n",
       "      <td id=\"T_5e2b1_row18_col0\" class=\"data row18 col0\" >Use GPU</td>\n",
       "      <td id=\"T_5e2b1_row18_col1\" class=\"data row18 col1\" >0</td>\n",
       "    </tr>\n",
       "    <tr>\n",
       "      <th id=\"T_5e2b1_level0_row19\" class=\"row_heading level0 row19\" >19</th>\n",
       "      <td id=\"T_5e2b1_row19_col0\" class=\"data row19 col0\" >Log Experiment</td>\n",
       "      <td id=\"T_5e2b1_row19_col1\" class=\"data row19 col1\" >0</td>\n",
       "    </tr>\n",
       "    <tr>\n",
       "      <th id=\"T_5e2b1_level0_row20\" class=\"row_heading level0 row20\" >20</th>\n",
       "      <td id=\"T_5e2b1_row20_col0\" class=\"data row20 col0\" >Experiment Name</td>\n",
       "      <td id=\"T_5e2b1_row20_col1\" class=\"data row20 col1\" >clf-default-name</td>\n",
       "    </tr>\n",
       "    <tr>\n",
       "      <th id=\"T_5e2b1_level0_row21\" class=\"row_heading level0 row21\" >21</th>\n",
       "      <td id=\"T_5e2b1_row21_col0\" class=\"data row21 col0\" >USI</td>\n",
       "      <td id=\"T_5e2b1_row21_col1\" class=\"data row21 col1\" >71ad</td>\n",
       "    </tr>\n",
       "    <tr>\n",
       "      <th id=\"T_5e2b1_level0_row22\" class=\"row_heading level0 row22\" >22</th>\n",
       "      <td id=\"T_5e2b1_row22_col0\" class=\"data row22 col0\" >Imputation Type</td>\n",
       "      <td id=\"T_5e2b1_row22_col1\" class=\"data row22 col1\" >simple</td>\n",
       "    </tr>\n",
       "    <tr>\n",
       "      <th id=\"T_5e2b1_level0_row23\" class=\"row_heading level0 row23\" >23</th>\n",
       "      <td id=\"T_5e2b1_row23_col0\" class=\"data row23 col0\" >Iterative Imputation Iteration</td>\n",
       "      <td id=\"T_5e2b1_row23_col1\" class=\"data row23 col1\" >None</td>\n",
       "    </tr>\n",
       "    <tr>\n",
       "      <th id=\"T_5e2b1_level0_row24\" class=\"row_heading level0 row24\" >24</th>\n",
       "      <td id=\"T_5e2b1_row24_col0\" class=\"data row24 col0\" >Numeric Imputer</td>\n",
       "      <td id=\"T_5e2b1_row24_col1\" class=\"data row24 col1\" >mean</td>\n",
       "    </tr>\n",
       "    <tr>\n",
       "      <th id=\"T_5e2b1_level0_row25\" class=\"row_heading level0 row25\" >25</th>\n",
       "      <td id=\"T_5e2b1_row25_col0\" class=\"data row25 col0\" >Iterative Imputation Numeric Model</td>\n",
       "      <td id=\"T_5e2b1_row25_col1\" class=\"data row25 col1\" >None</td>\n",
       "    </tr>\n",
       "    <tr>\n",
       "      <th id=\"T_5e2b1_level0_row26\" class=\"row_heading level0 row26\" >26</th>\n",
       "      <td id=\"T_5e2b1_row26_col0\" class=\"data row26 col0\" >Categorical Imputer</td>\n",
       "      <td id=\"T_5e2b1_row26_col1\" class=\"data row26 col1\" >constant</td>\n",
       "    </tr>\n",
       "    <tr>\n",
       "      <th id=\"T_5e2b1_level0_row27\" class=\"row_heading level0 row27\" >27</th>\n",
       "      <td id=\"T_5e2b1_row27_col0\" class=\"data row27 col0\" >Iterative Imputation Categorical Model</td>\n",
       "      <td id=\"T_5e2b1_row27_col1\" class=\"data row27 col1\" >None</td>\n",
       "    </tr>\n",
       "    <tr>\n",
       "      <th id=\"T_5e2b1_level0_row28\" class=\"row_heading level0 row28\" >28</th>\n",
       "      <td id=\"T_5e2b1_row28_col0\" class=\"data row28 col0\" >Unknown Categoricals Handling</td>\n",
       "      <td id=\"T_5e2b1_row28_col1\" class=\"data row28 col1\" >least_frequent</td>\n",
       "    </tr>\n",
       "    <tr>\n",
       "      <th id=\"T_5e2b1_level0_row29\" class=\"row_heading level0 row29\" >29</th>\n",
       "      <td id=\"T_5e2b1_row29_col0\" class=\"data row29 col0\" >Normalize</td>\n",
       "      <td id=\"T_5e2b1_row29_col1\" class=\"data row29 col1\" >0</td>\n",
       "    </tr>\n",
       "    <tr>\n",
       "      <th id=\"T_5e2b1_level0_row30\" class=\"row_heading level0 row30\" >30</th>\n",
       "      <td id=\"T_5e2b1_row30_col0\" class=\"data row30 col0\" >Normalize Method</td>\n",
       "      <td id=\"T_5e2b1_row30_col1\" class=\"data row30 col1\" >None</td>\n",
       "    </tr>\n",
       "    <tr>\n",
       "      <th id=\"T_5e2b1_level0_row31\" class=\"row_heading level0 row31\" >31</th>\n",
       "      <td id=\"T_5e2b1_row31_col0\" class=\"data row31 col0\" >Transformation</td>\n",
       "      <td id=\"T_5e2b1_row31_col1\" class=\"data row31 col1\" >0</td>\n",
       "    </tr>\n",
       "    <tr>\n",
       "      <th id=\"T_5e2b1_level0_row32\" class=\"row_heading level0 row32\" >32</th>\n",
       "      <td id=\"T_5e2b1_row32_col0\" class=\"data row32 col0\" >Transformation Method</td>\n",
       "      <td id=\"T_5e2b1_row32_col1\" class=\"data row32 col1\" >None</td>\n",
       "    </tr>\n",
       "    <tr>\n",
       "      <th id=\"T_5e2b1_level0_row33\" class=\"row_heading level0 row33\" >33</th>\n",
       "      <td id=\"T_5e2b1_row33_col0\" class=\"data row33 col0\" >PCA</td>\n",
       "      <td id=\"T_5e2b1_row33_col1\" class=\"data row33 col1\" >0</td>\n",
       "    </tr>\n",
       "    <tr>\n",
       "      <th id=\"T_5e2b1_level0_row34\" class=\"row_heading level0 row34\" >34</th>\n",
       "      <td id=\"T_5e2b1_row34_col0\" class=\"data row34 col0\" >PCA Method</td>\n",
       "      <td id=\"T_5e2b1_row34_col1\" class=\"data row34 col1\" >None</td>\n",
       "    </tr>\n",
       "    <tr>\n",
       "      <th id=\"T_5e2b1_level0_row35\" class=\"row_heading level0 row35\" >35</th>\n",
       "      <td id=\"T_5e2b1_row35_col0\" class=\"data row35 col0\" >PCA Components</td>\n",
       "      <td id=\"T_5e2b1_row35_col1\" class=\"data row35 col1\" >None</td>\n",
       "    </tr>\n",
       "    <tr>\n",
       "      <th id=\"T_5e2b1_level0_row36\" class=\"row_heading level0 row36\" >36</th>\n",
       "      <td id=\"T_5e2b1_row36_col0\" class=\"data row36 col0\" >Ignore Low Variance</td>\n",
       "      <td id=\"T_5e2b1_row36_col1\" class=\"data row36 col1\" >0</td>\n",
       "    </tr>\n",
       "    <tr>\n",
       "      <th id=\"T_5e2b1_level0_row37\" class=\"row_heading level0 row37\" >37</th>\n",
       "      <td id=\"T_5e2b1_row37_col0\" class=\"data row37 col0\" >Combine Rare Levels</td>\n",
       "      <td id=\"T_5e2b1_row37_col1\" class=\"data row37 col1\" >0</td>\n",
       "    </tr>\n",
       "    <tr>\n",
       "      <th id=\"T_5e2b1_level0_row38\" class=\"row_heading level0 row38\" >38</th>\n",
       "      <td id=\"T_5e2b1_row38_col0\" class=\"data row38 col0\" >Rare Level Threshold</td>\n",
       "      <td id=\"T_5e2b1_row38_col1\" class=\"data row38 col1\" >None</td>\n",
       "    </tr>\n",
       "    <tr>\n",
       "      <th id=\"T_5e2b1_level0_row39\" class=\"row_heading level0 row39\" >39</th>\n",
       "      <td id=\"T_5e2b1_row39_col0\" class=\"data row39 col0\" >Numeric Binning</td>\n",
       "      <td id=\"T_5e2b1_row39_col1\" class=\"data row39 col1\" >0</td>\n",
       "    </tr>\n",
       "    <tr>\n",
       "      <th id=\"T_5e2b1_level0_row40\" class=\"row_heading level0 row40\" >40</th>\n",
       "      <td id=\"T_5e2b1_row40_col0\" class=\"data row40 col0\" >Remove Outliers</td>\n",
       "      <td id=\"T_5e2b1_row40_col1\" class=\"data row40 col1\" >0</td>\n",
       "    </tr>\n",
       "    <tr>\n",
       "      <th id=\"T_5e2b1_level0_row41\" class=\"row_heading level0 row41\" >41</th>\n",
       "      <td id=\"T_5e2b1_row41_col0\" class=\"data row41 col0\" >Outliers Threshold</td>\n",
       "      <td id=\"T_5e2b1_row41_col1\" class=\"data row41 col1\" >None</td>\n",
       "    </tr>\n",
       "    <tr>\n",
       "      <th id=\"T_5e2b1_level0_row42\" class=\"row_heading level0 row42\" >42</th>\n",
       "      <td id=\"T_5e2b1_row42_col0\" class=\"data row42 col0\" >Remove Multicollinearity</td>\n",
       "      <td id=\"T_5e2b1_row42_col1\" class=\"data row42 col1\" >0</td>\n",
       "    </tr>\n",
       "    <tr>\n",
       "      <th id=\"T_5e2b1_level0_row43\" class=\"row_heading level0 row43\" >43</th>\n",
       "      <td id=\"T_5e2b1_row43_col0\" class=\"data row43 col0\" >Multicollinearity Threshold</td>\n",
       "      <td id=\"T_5e2b1_row43_col1\" class=\"data row43 col1\" >None</td>\n",
       "    </tr>\n",
       "    <tr>\n",
       "      <th id=\"T_5e2b1_level0_row44\" class=\"row_heading level0 row44\" >44</th>\n",
       "      <td id=\"T_5e2b1_row44_col0\" class=\"data row44 col0\" >Remove Perfect Collinearity</td>\n",
       "      <td id=\"T_5e2b1_row44_col1\" class=\"data row44 col1\" >1</td>\n",
       "    </tr>\n",
       "    <tr>\n",
       "      <th id=\"T_5e2b1_level0_row45\" class=\"row_heading level0 row45\" >45</th>\n",
       "      <td id=\"T_5e2b1_row45_col0\" class=\"data row45 col0\" >Clustering</td>\n",
       "      <td id=\"T_5e2b1_row45_col1\" class=\"data row45 col1\" >0</td>\n",
       "    </tr>\n",
       "    <tr>\n",
       "      <th id=\"T_5e2b1_level0_row46\" class=\"row_heading level0 row46\" >46</th>\n",
       "      <td id=\"T_5e2b1_row46_col0\" class=\"data row46 col0\" >Clustering Iteration</td>\n",
       "      <td id=\"T_5e2b1_row46_col1\" class=\"data row46 col1\" >None</td>\n",
       "    </tr>\n",
       "    <tr>\n",
       "      <th id=\"T_5e2b1_level0_row47\" class=\"row_heading level0 row47\" >47</th>\n",
       "      <td id=\"T_5e2b1_row47_col0\" class=\"data row47 col0\" >Polynomial Features</td>\n",
       "      <td id=\"T_5e2b1_row47_col1\" class=\"data row47 col1\" >0</td>\n",
       "    </tr>\n",
       "    <tr>\n",
       "      <th id=\"T_5e2b1_level0_row48\" class=\"row_heading level0 row48\" >48</th>\n",
       "      <td id=\"T_5e2b1_row48_col0\" class=\"data row48 col0\" >Polynomial Degree</td>\n",
       "      <td id=\"T_5e2b1_row48_col1\" class=\"data row48 col1\" >None</td>\n",
       "    </tr>\n",
       "    <tr>\n",
       "      <th id=\"T_5e2b1_level0_row49\" class=\"row_heading level0 row49\" >49</th>\n",
       "      <td id=\"T_5e2b1_row49_col0\" class=\"data row49 col0\" >Trignometry Features</td>\n",
       "      <td id=\"T_5e2b1_row49_col1\" class=\"data row49 col1\" >0</td>\n",
       "    </tr>\n",
       "    <tr>\n",
       "      <th id=\"T_5e2b1_level0_row50\" class=\"row_heading level0 row50\" >50</th>\n",
       "      <td id=\"T_5e2b1_row50_col0\" class=\"data row50 col0\" >Polynomial Threshold</td>\n",
       "      <td id=\"T_5e2b1_row50_col1\" class=\"data row50 col1\" >None</td>\n",
       "    </tr>\n",
       "    <tr>\n",
       "      <th id=\"T_5e2b1_level0_row51\" class=\"row_heading level0 row51\" >51</th>\n",
       "      <td id=\"T_5e2b1_row51_col0\" class=\"data row51 col0\" >Group Features</td>\n",
       "      <td id=\"T_5e2b1_row51_col1\" class=\"data row51 col1\" >0</td>\n",
       "    </tr>\n",
       "    <tr>\n",
       "      <th id=\"T_5e2b1_level0_row52\" class=\"row_heading level0 row52\" >52</th>\n",
       "      <td id=\"T_5e2b1_row52_col0\" class=\"data row52 col0\" >Feature Selection</td>\n",
       "      <td id=\"T_5e2b1_row52_col1\" class=\"data row52 col1\" >0</td>\n",
       "    </tr>\n",
       "    <tr>\n",
       "      <th id=\"T_5e2b1_level0_row53\" class=\"row_heading level0 row53\" >53</th>\n",
       "      <td id=\"T_5e2b1_row53_col0\" class=\"data row53 col0\" >Feature Selection Method</td>\n",
       "      <td id=\"T_5e2b1_row53_col1\" class=\"data row53 col1\" >classic</td>\n",
       "    </tr>\n",
       "    <tr>\n",
       "      <th id=\"T_5e2b1_level0_row54\" class=\"row_heading level0 row54\" >54</th>\n",
       "      <td id=\"T_5e2b1_row54_col0\" class=\"data row54 col0\" >Features Selection Threshold</td>\n",
       "      <td id=\"T_5e2b1_row54_col1\" class=\"data row54 col1\" >None</td>\n",
       "    </tr>\n",
       "    <tr>\n",
       "      <th id=\"T_5e2b1_level0_row55\" class=\"row_heading level0 row55\" >55</th>\n",
       "      <td id=\"T_5e2b1_row55_col0\" class=\"data row55 col0\" >Feature Interaction</td>\n",
       "      <td id=\"T_5e2b1_row55_col1\" class=\"data row55 col1\" >0</td>\n",
       "    </tr>\n",
       "    <tr>\n",
       "      <th id=\"T_5e2b1_level0_row56\" class=\"row_heading level0 row56\" >56</th>\n",
       "      <td id=\"T_5e2b1_row56_col0\" class=\"data row56 col0\" >Feature Ratio</td>\n",
       "      <td id=\"T_5e2b1_row56_col1\" class=\"data row56 col1\" >0</td>\n",
       "    </tr>\n",
       "    <tr>\n",
       "      <th id=\"T_5e2b1_level0_row57\" class=\"row_heading level0 row57\" >57</th>\n",
       "      <td id=\"T_5e2b1_row57_col0\" class=\"data row57 col0\" >Interaction Threshold</td>\n",
       "      <td id=\"T_5e2b1_row57_col1\" class=\"data row57 col1\" >None</td>\n",
       "    </tr>\n",
       "    <tr>\n",
       "      <th id=\"T_5e2b1_level0_row58\" class=\"row_heading level0 row58\" >58</th>\n",
       "      <td id=\"T_5e2b1_row58_col0\" class=\"data row58 col0\" >Fix Imbalance</td>\n",
       "      <td id=\"T_5e2b1_row58_col1\" class=\"data row58 col1\" >0</td>\n",
       "    </tr>\n",
       "    <tr>\n",
       "      <th id=\"T_5e2b1_level0_row59\" class=\"row_heading level0 row59\" >59</th>\n",
       "      <td id=\"T_5e2b1_row59_col0\" class=\"data row59 col0\" >Fix Imbalance Method</td>\n",
       "      <td id=\"T_5e2b1_row59_col1\" class=\"data row59 col1\" >SMOTE</td>\n",
       "    </tr>\n",
       "  </tbody>\n",
       "</table>\n"
      ],
      "text/plain": [
       "<pandas.io.formats.style.Styler at 0x25dde417f10>"
      ]
     },
     "metadata": {},
     "output_type": "display_data"
    }
   ],
   "source": [
    "from pycaret.classification import *\n",
    "exp_clf101 = setup(data = pipedf, target = 'label', session_id=123) "
   ]
  },
  {
   "cell_type": "code",
   "execution_count": 38,
   "id": "b6a27898",
   "metadata": {},
   "outputs": [
    {
     "data": {
      "text/html": [
       "<style type=\"text/css\">\n",
       "#T_f582b th {\n",
       "  text-align: left;\n",
       "}\n",
       "#T_f582b_row0_col0, #T_f582b_row0_col2, #T_f582b_row0_col3, #T_f582b_row0_col4, #T_f582b_row1_col0, #T_f582b_row1_col2, #T_f582b_row1_col3, #T_f582b_row1_col4, #T_f582b_row1_col5, #T_f582b_row1_col6, #T_f582b_row2_col0, #T_f582b_row2_col1, #T_f582b_row2_col2, #T_f582b_row2_col3, #T_f582b_row2_col4, #T_f582b_row2_col6, #T_f582b_row2_col7, #T_f582b_row3_col0, #T_f582b_row3_col1, #T_f582b_row3_col3, #T_f582b_row3_col4, #T_f582b_row3_col5, #T_f582b_row3_col6, #T_f582b_row3_col7, #T_f582b_row4_col0, #T_f582b_row4_col1, #T_f582b_row4_col2, #T_f582b_row4_col3, #T_f582b_row4_col4, #T_f582b_row4_col5, #T_f582b_row4_col6, #T_f582b_row4_col7, #T_f582b_row5_col0, #T_f582b_row5_col1, #T_f582b_row5_col2, #T_f582b_row5_col3, #T_f582b_row5_col5, #T_f582b_row5_col6, #T_f582b_row5_col7, #T_f582b_row6_col0, #T_f582b_row6_col1, #T_f582b_row6_col2, #T_f582b_row6_col3, #T_f582b_row6_col4, #T_f582b_row6_col5, #T_f582b_row6_col6, #T_f582b_row6_col7, #T_f582b_row7_col0, #T_f582b_row7_col1, #T_f582b_row7_col2, #T_f582b_row7_col3, #T_f582b_row7_col4, #T_f582b_row7_col5, #T_f582b_row7_col6, #T_f582b_row7_col7, #T_f582b_row8_col0, #T_f582b_row8_col1, #T_f582b_row8_col2, #T_f582b_row8_col3, #T_f582b_row8_col4, #T_f582b_row8_col5, #T_f582b_row8_col6, #T_f582b_row8_col7, #T_f582b_row9_col0, #T_f582b_row9_col1, #T_f582b_row9_col2, #T_f582b_row9_col3, #T_f582b_row9_col4, #T_f582b_row9_col5, #T_f582b_row9_col6, #T_f582b_row9_col7, #T_f582b_row10_col0, #T_f582b_row10_col1, #T_f582b_row10_col2, #T_f582b_row10_col3, #T_f582b_row10_col4, #T_f582b_row10_col5, #T_f582b_row10_col6, #T_f582b_row10_col7, #T_f582b_row11_col0, #T_f582b_row11_col1, #T_f582b_row11_col2, #T_f582b_row11_col3, #T_f582b_row11_col4, #T_f582b_row11_col5, #T_f582b_row11_col6, #T_f582b_row11_col7, #T_f582b_row12_col0, #T_f582b_row12_col1, #T_f582b_row12_col2, #T_f582b_row12_col4, #T_f582b_row12_col5, #T_f582b_row12_col6, #T_f582b_row12_col7 {\n",
       "  text-align: left;\n",
       "}\n",
       "#T_f582b_row0_col1, #T_f582b_row0_col5, #T_f582b_row0_col6, #T_f582b_row0_col7, #T_f582b_row1_col1, #T_f582b_row1_col7, #T_f582b_row2_col5, #T_f582b_row3_col2, #T_f582b_row5_col4, #T_f582b_row12_col3 {\n",
       "  text-align: left;\n",
       "  background-color: yellow;\n",
       "}\n",
       "#T_f582b_row0_col8, #T_f582b_row1_col8, #T_f582b_row2_col8, #T_f582b_row3_col8, #T_f582b_row4_col8, #T_f582b_row5_col8, #T_f582b_row6_col8, #T_f582b_row7_col8, #T_f582b_row8_col8, #T_f582b_row10_col8, #T_f582b_row11_col8, #T_f582b_row12_col8 {\n",
       "  text-align: left;\n",
       "  background-color: lightgrey;\n",
       "}\n",
       "#T_f582b_row9_col8 {\n",
       "  text-align: left;\n",
       "  background-color: yellow;\n",
       "  background-color: lightgrey;\n",
       "}\n",
       "</style>\n",
       "<table id=\"T_f582b\">\n",
       "  <thead>\n",
       "    <tr>\n",
       "      <th class=\"blank level0\" >&nbsp;</th>\n",
       "      <th id=\"T_f582b_level0_col0\" class=\"col_heading level0 col0\" >Model</th>\n",
       "      <th id=\"T_f582b_level0_col1\" class=\"col_heading level0 col1\" >Accuracy</th>\n",
       "      <th id=\"T_f582b_level0_col2\" class=\"col_heading level0 col2\" >AUC</th>\n",
       "      <th id=\"T_f582b_level0_col3\" class=\"col_heading level0 col3\" >Recall</th>\n",
       "      <th id=\"T_f582b_level0_col4\" class=\"col_heading level0 col4\" >Prec.</th>\n",
       "      <th id=\"T_f582b_level0_col5\" class=\"col_heading level0 col5\" >F1</th>\n",
       "      <th id=\"T_f582b_level0_col6\" class=\"col_heading level0 col6\" >Kappa</th>\n",
       "      <th id=\"T_f582b_level0_col7\" class=\"col_heading level0 col7\" >MCC</th>\n",
       "      <th id=\"T_f582b_level0_col8\" class=\"col_heading level0 col8\" >TT (Sec)</th>\n",
       "    </tr>\n",
       "  </thead>\n",
       "  <tbody>\n",
       "    <tr>\n",
       "      <th id=\"T_f582b_level0_row0\" class=\"row_heading level0 row0\" >rf</th>\n",
       "      <td id=\"T_f582b_row0_col0\" class=\"data row0 col0\" >Random Forest Classifier</td>\n",
       "      <td id=\"T_f582b_row0_col1\" class=\"data row0 col1\" >0.9708</td>\n",
       "      <td id=\"T_f582b_row0_col2\" class=\"data row0 col2\" >0.9522</td>\n",
       "      <td id=\"T_f582b_row0_col3\" class=\"data row0 col3\" >0.8126</td>\n",
       "      <td id=\"T_f582b_row0_col4\" class=\"data row0 col4\" >0.9614</td>\n",
       "      <td id=\"T_f582b_row0_col5\" class=\"data row0 col5\" >0.8801</td>\n",
       "      <td id=\"T_f582b_row0_col6\" class=\"data row0 col6\" >0.8636</td>\n",
       "      <td id=\"T_f582b_row0_col7\" class=\"data row0 col7\" >0.8680</td>\n",
       "      <td id=\"T_f582b_row0_col8\" class=\"data row0 col8\" >3.7120</td>\n",
       "    </tr>\n",
       "    <tr>\n",
       "      <th id=\"T_f582b_level0_row1\" class=\"row_heading level0 row1\" >et</th>\n",
       "      <td id=\"T_f582b_row1_col0\" class=\"data row1 col0\" >Extra Trees Classifier</td>\n",
       "      <td id=\"T_f582b_row1_col1\" class=\"data row1 col1\" >0.9708</td>\n",
       "      <td id=\"T_f582b_row1_col2\" class=\"data row1 col2\" >0.9425</td>\n",
       "      <td id=\"T_f582b_row1_col3\" class=\"data row1 col3\" >0.8087</td>\n",
       "      <td id=\"T_f582b_row1_col4\" class=\"data row1 col4\" >0.9665</td>\n",
       "      <td id=\"T_f582b_row1_col5\" class=\"data row1 col5\" >0.8791</td>\n",
       "      <td id=\"T_f582b_row1_col6\" class=\"data row1 col6\" >0.8627</td>\n",
       "      <td id=\"T_f582b_row1_col7\" class=\"data row1 col7\" >0.8680</td>\n",
       "      <td id=\"T_f582b_row1_col8\" class=\"data row1 col8\" >7.7570</td>\n",
       "    </tr>\n",
       "    <tr>\n",
       "      <th id=\"T_f582b_level0_row2\" class=\"row_heading level0 row2\" >dt</th>\n",
       "      <td id=\"T_f582b_row2_col0\" class=\"data row2 col0\" >Decision Tree Classifier</td>\n",
       "      <td id=\"T_f582b_row2_col1\" class=\"data row2 col1\" >0.9697</td>\n",
       "      <td id=\"T_f582b_row2_col2\" class=\"data row2 col2\" >0.9164</td>\n",
       "      <td id=\"T_f582b_row2_col3\" class=\"data row2 col3\" >0.8437</td>\n",
       "      <td id=\"T_f582b_row2_col4\" class=\"data row2 col4\" >0.9227</td>\n",
       "      <td id=\"T_f582b_row2_col5\" class=\"data row2 col5\" >0.8801</td>\n",
       "      <td id=\"T_f582b_row2_col6\" class=\"data row2 col6\" >0.8629</td>\n",
       "      <td id=\"T_f582b_row2_col7\" class=\"data row2 col7\" >0.8648</td>\n",
       "      <td id=\"T_f582b_row2_col8\" class=\"data row2 col8\" >0.9920</td>\n",
       "    </tr>\n",
       "    <tr>\n",
       "      <th id=\"T_f582b_level0_row3\" class=\"row_heading level0 row3\" >ada</th>\n",
       "      <td id=\"T_f582b_row3_col0\" class=\"data row3 col0\" >Ada Boost Classifier</td>\n",
       "      <td id=\"T_f582b_row3_col1\" class=\"data row3 col1\" >0.9672</td>\n",
       "      <td id=\"T_f582b_row3_col2\" class=\"data row3 col2\" >0.9653</td>\n",
       "      <td id=\"T_f582b_row3_col3\" class=\"data row3 col3\" >0.8011</td>\n",
       "      <td id=\"T_f582b_row3_col4\" class=\"data row3 col4\" >0.9433</td>\n",
       "      <td id=\"T_f582b_row3_col5\" class=\"data row3 col5\" >0.8652</td>\n",
       "      <td id=\"T_f582b_row3_col6\" class=\"data row3 col6\" >0.8467</td>\n",
       "      <td id=\"T_f582b_row3_col7\" class=\"data row3 col7\" >0.8511</td>\n",
       "      <td id=\"T_f582b_row3_col8\" class=\"data row3 col8\" >2.6120</td>\n",
       "    </tr>\n",
       "    <tr>\n",
       "      <th id=\"T_f582b_level0_row4\" class=\"row_heading level0 row4\" >gbc</th>\n",
       "      <td id=\"T_f582b_row4_col0\" class=\"data row4 col0\" >Gradient Boosting Classifier</td>\n",
       "      <td id=\"T_f582b_row4_col1\" class=\"data row4 col1\" >0.9649</td>\n",
       "      <td id=\"T_f582b_row4_col2\" class=\"data row4 col2\" >0.9607</td>\n",
       "      <td id=\"T_f582b_row4_col3\" class=\"data row4 col3\" >0.7758</td>\n",
       "      <td id=\"T_f582b_row4_col4\" class=\"data row4 col4\" >0.9509</td>\n",
       "      <td id=\"T_f582b_row4_col5\" class=\"data row4 col5\" >0.8532</td>\n",
       "      <td id=\"T_f582b_row4_col6\" class=\"data row4 col6\" >0.8336</td>\n",
       "      <td id=\"T_f582b_row4_col7\" class=\"data row4 col7\" >0.8399</td>\n",
       "      <td id=\"T_f582b_row4_col8\" class=\"data row4 col8\" >9.2460</td>\n",
       "    </tr>\n",
       "    <tr>\n",
       "      <th id=\"T_f582b_level0_row5\" class=\"row_heading level0 row5\" >ridge</th>\n",
       "      <td id=\"T_f582b_row5_col0\" class=\"data row5 col0\" >Ridge Classifier</td>\n",
       "      <td id=\"T_f582b_row5_col1\" class=\"data row5 col1\" >0.9633</td>\n",
       "      <td id=\"T_f582b_row5_col2\" class=\"data row5 col2\" >0.0000</td>\n",
       "      <td id=\"T_f582b_row5_col3\" class=\"data row5 col3\" >0.7332</td>\n",
       "      <td id=\"T_f582b_row5_col4\" class=\"data row5 col4\" >0.9871</td>\n",
       "      <td id=\"T_f582b_row5_col5\" class=\"data row5 col5\" >0.8402</td>\n",
       "      <td id=\"T_f582b_row5_col6\" class=\"data row5 col6\" >0.8201</td>\n",
       "      <td id=\"T_f582b_row5_col7\" class=\"data row5 col7\" >0.8323</td>\n",
       "      <td id=\"T_f582b_row5_col8\" class=\"data row5 col8\" >5.8150</td>\n",
       "    </tr>\n",
       "    <tr>\n",
       "      <th id=\"T_f582b_level0_row6\" class=\"row_heading level0 row6\" >lr</th>\n",
       "      <td id=\"T_f582b_row6_col0\" class=\"data row6 col0\" >Logistic Regression</td>\n",
       "      <td id=\"T_f582b_row6_col1\" class=\"data row6 col1\" >0.9623</td>\n",
       "      <td id=\"T_f582b_row6_col2\" class=\"data row6 col2\" >0.9610</td>\n",
       "      <td id=\"T_f582b_row6_col3\" class=\"data row6 col3\" >0.7603</td>\n",
       "      <td id=\"T_f582b_row6_col4\" class=\"data row6 col4\" >0.9465</td>\n",
       "      <td id=\"T_f582b_row6_col5\" class=\"data row6 col5\" >0.8420</td>\n",
       "      <td id=\"T_f582b_row6_col6\" class=\"data row6 col6\" >0.8210</td>\n",
       "      <td id=\"T_f582b_row6_col7\" class=\"data row6 col7\" >0.8280</td>\n",
       "      <td id=\"T_f582b_row6_col8\" class=\"data row6 col8\" >8.4100</td>\n",
       "    </tr>\n",
       "    <tr>\n",
       "      <th id=\"T_f582b_level0_row7\" class=\"row_heading level0 row7\" >knn</th>\n",
       "      <td id=\"T_f582b_row7_col0\" class=\"data row7 col0\" >K Neighbors Classifier</td>\n",
       "      <td id=\"T_f582b_row7_col1\" class=\"data row7 col1\" >0.9369</td>\n",
       "      <td id=\"T_f582b_row7_col2\" class=\"data row7 col2\" >0.8737</td>\n",
       "      <td id=\"T_f582b_row7_col3\" class=\"data row7 col3\" >0.5419</td>\n",
       "      <td id=\"T_f582b_row7_col4\" class=\"data row7 col4\" >0.9710</td>\n",
       "      <td id=\"T_f582b_row7_col5\" class=\"data row7 col5\" >0.6933</td>\n",
       "      <td id=\"T_f582b_row7_col6\" class=\"data row7 col6\" >0.6615</td>\n",
       "      <td id=\"T_f582b_row7_col7\" class=\"data row7 col7\" >0.6977</td>\n",
       "      <td id=\"T_f582b_row7_col8\" class=\"data row7 col8\" >2.2360</td>\n",
       "    </tr>\n",
       "    <tr>\n",
       "      <th id=\"T_f582b_level0_row8\" class=\"row_heading level0 row8\" >svm</th>\n",
       "      <td id=\"T_f582b_row8_col0\" class=\"data row8 col0\" >SVM - Linear Kernel</td>\n",
       "      <td id=\"T_f582b_row8_col1\" class=\"data row8 col1\" >0.8949</td>\n",
       "      <td id=\"T_f582b_row8_col2\" class=\"data row8 col2\" >0.0000</td>\n",
       "      <td id=\"T_f582b_row8_col3\" class=\"data row8 col3\" >0.5777</td>\n",
       "      <td id=\"T_f582b_row8_col4\" class=\"data row8 col4\" >0.7431</td>\n",
       "      <td id=\"T_f582b_row8_col5\" class=\"data row8 col5\" >0.5757</td>\n",
       "      <td id=\"T_f582b_row8_col6\" class=\"data row8 col6\" >0.5273</td>\n",
       "      <td id=\"T_f582b_row8_col7\" class=\"data row8 col7\" >0.5589</td>\n",
       "      <td id=\"T_f582b_row8_col8\" class=\"data row8 col8\" >0.6650</td>\n",
       "    </tr>\n",
       "    <tr>\n",
       "      <th id=\"T_f582b_level0_row9\" class=\"row_heading level0 row9\" >dummy</th>\n",
       "      <td id=\"T_f582b_row9_col0\" class=\"data row9 col0\" >Dummy Classifier</td>\n",
       "      <td id=\"T_f582b_row9_col1\" class=\"data row9 col1\" >0.8674</td>\n",
       "      <td id=\"T_f582b_row9_col2\" class=\"data row9 col2\" >0.5000</td>\n",
       "      <td id=\"T_f582b_row9_col3\" class=\"data row9 col3\" >0.0000</td>\n",
       "      <td id=\"T_f582b_row9_col4\" class=\"data row9 col4\" >0.0000</td>\n",
       "      <td id=\"T_f582b_row9_col5\" class=\"data row9 col5\" >0.0000</td>\n",
       "      <td id=\"T_f582b_row9_col6\" class=\"data row9 col6\" >0.0000</td>\n",
       "      <td id=\"T_f582b_row9_col7\" class=\"data row9 col7\" >0.0000</td>\n",
       "      <td id=\"T_f582b_row9_col8\" class=\"data row9 col8\" >0.0740</td>\n",
       "    </tr>\n",
       "    <tr>\n",
       "      <th id=\"T_f582b_level0_row10\" class=\"row_heading level0 row10\" >lda</th>\n",
       "      <td id=\"T_f582b_row10_col0\" class=\"data row10 col0\" >Linear Discriminant Analysis</td>\n",
       "      <td id=\"T_f582b_row10_col1\" class=\"data row10 col1\" >0.8621</td>\n",
       "      <td id=\"T_f582b_row10_col2\" class=\"data row10 col2\" >0.8428</td>\n",
       "      <td id=\"T_f582b_row10_col3\" class=\"data row10 col3\" >0.6233</td>\n",
       "      <td id=\"T_f582b_row10_col4\" class=\"data row10 col4\" >0.8865</td>\n",
       "      <td id=\"T_f582b_row10_col5\" class=\"data row10 col5\" >0.7306</td>\n",
       "      <td id=\"T_f582b_row10_col6\" class=\"data row10 col6\" >0.7101</td>\n",
       "      <td id=\"T_f582b_row10_col7\" class=\"data row10 col7\" >0.7248</td>\n",
       "      <td id=\"T_f582b_row10_col8\" class=\"data row10 col8\" >19.3560</td>\n",
       "    </tr>\n",
       "    <tr>\n",
       "      <th id=\"T_f582b_level0_row11\" class=\"row_heading level0 row11\" >qda</th>\n",
       "      <td id=\"T_f582b_row11_col0\" class=\"data row11 col0\" >Quadratic Discriminant Analysis</td>\n",
       "      <td id=\"T_f582b_row11_col1\" class=\"data row11 col1\" >0.3774</td>\n",
       "      <td id=\"T_f582b_row11_col2\" class=\"data row11 col2\" >0.6222</td>\n",
       "      <td id=\"T_f582b_row11_col3\" class=\"data row11 col3\" >0.9554</td>\n",
       "      <td id=\"T_f582b_row11_col4\" class=\"data row11 col4\" >0.1768</td>\n",
       "      <td id=\"T_f582b_row11_col5\" class=\"data row11 col5\" >0.2967</td>\n",
       "      <td id=\"T_f582b_row11_col6\" class=\"data row11 col6\" >0.0932</td>\n",
       "      <td id=\"T_f582b_row11_col7\" class=\"data row11 col7\" >0.1896</td>\n",
       "      <td id=\"T_f582b_row11_col8\" class=\"data row11 col8\" >15.3380</td>\n",
       "    </tr>\n",
       "    <tr>\n",
       "      <th id=\"T_f582b_level0_row12\" class=\"row_heading level0 row12\" >nb</th>\n",
       "      <td id=\"T_f582b_row12_col0\" class=\"data row12 col0\" >Naive Bayes</td>\n",
       "      <td id=\"T_f582b_row12_col1\" class=\"data row12 col1\" >0.1933</td>\n",
       "      <td id=\"T_f582b_row12_col2\" class=\"data row12 col2\" >0.5334</td>\n",
       "      <td id=\"T_f582b_row12_col3\" class=\"data row12 col3\" >0.9962</td>\n",
       "      <td id=\"T_f582b_row12_col4\" class=\"data row12 col4\" >0.1408</td>\n",
       "      <td id=\"T_f582b_row12_col5\" class=\"data row12 col5\" >0.2467</td>\n",
       "      <td id=\"T_f582b_row12_col6\" class=\"data row12 col6\" >0.0187</td>\n",
       "      <td id=\"T_f582b_row12_col7\" class=\"data row12 col7\" >0.0935</td>\n",
       "      <td id=\"T_f582b_row12_col8\" class=\"data row12 col8\" >0.3300</td>\n",
       "    </tr>\n",
       "  </tbody>\n",
       "</table>\n"
      ],
      "text/plain": [
       "<pandas.io.formats.style.Styler at 0x25dde24cf40>"
      ]
     },
     "metadata": {},
     "output_type": "display_data"
    }
   ],
   "source": [
    "best_model = compare_models()\n"
   ]
  },
  {
   "cell_type": "code",
   "execution_count": 39,
   "id": "2cf3300a",
   "metadata": {},
   "outputs": [
    {
     "name": "stdout",
     "output_type": "stream",
     "text": [
      "RandomForestClassifier(bootstrap=True, ccp_alpha=0.0, class_weight=None,\n",
      "                       criterion='gini', max_depth=None, max_features='auto',\n",
      "                       max_leaf_nodes=None, max_samples=None,\n",
      "                       min_impurity_decrease=0.0, min_impurity_split=None,\n",
      "                       min_samples_leaf=1, min_samples_split=2,\n",
      "                       min_weight_fraction_leaf=0.0, n_estimators=100,\n",
      "                       n_jobs=-1, oob_score=False, random_state=123, verbose=0,\n",
      "                       warm_start=False)\n"
     ]
    }
   ],
   "source": [
    "print(best_model)"
   ]
  },
  {
   "cell_type": "code",
   "execution_count": 40,
   "id": "996067da",
   "metadata": {},
   "outputs": [
    {
     "name": "stdout",
     "output_type": "stream",
     "text": [
      "Precision of our model is equal 91.36 %.\n"
     ]
    },
    {
     "data": {
      "image/png": "[encoded data removed]",
      "text/plain": [
       "<Figure size 576x396 with 2 Axes>"
      ]
     },
     "metadata": {},
     "output_type": "display_data"
    }
   ],
   "source": [
    "from sklearn.ensemble import RandomForestClassifier\n",
    "rfc =RandomForestClassifier(bootstrap=True, ccp_alpha=0.0, class_weight=None,\n",
    "                       criterion='gini', max_depth=None, max_features='auto',\n",
    "                       max_leaf_nodes=None, max_samples=None,\n",
    "                       min_impurity_decrease=0.0, min_impurity_split=None,\n",
    "                       min_samples_leaf=1, min_samples_split=2,\n",
    "                       min_weight_fraction_leaf=0.0, n_estimators=100,\n",
    "                       n_jobs=-1, oob_score=False, random_state=123, verbose=0,\n",
    "                       warm_start=False)\n",
    "classifiertest(rfc, X, y)"
   ]
  },
  {
   "cell_type": "code",
   "execution_count": 41,
   "id": "a7f67055",
   "metadata": {},
   "outputs": [
    {
     "data": {
      "text/html": [
       "<style type=\"text/css\">\n",
       "#T_4df91_row10_col0, #T_4df91_row10_col1, #T_4df91_row10_col2, #T_4df91_row10_col3, #T_4df91_row10_col4, #T_4df91_row10_col5, #T_4df91_row10_col6 {\n",
       "  background: yellow;\n",
       "}\n",
       "</style>\n",
       "<table id=\"T_4df91\">\n",
       "  <thead>\n",
       "    <tr>\n",
       "      <th class=\"blank level0\" >&nbsp;</th>\n",
       "      <th id=\"T_4df91_level0_col0\" class=\"col_heading level0 col0\" >Accuracy</th>\n",
       "      <th id=\"T_4df91_level0_col1\" class=\"col_heading level0 col1\" >AUC</th>\n",
       "      <th id=\"T_4df91_level0_col2\" class=\"col_heading level0 col2\" >Recall</th>\n",
       "      <th id=\"T_4df91_level0_col3\" class=\"col_heading level0 col3\" >Prec.</th>\n",
       "      <th id=\"T_4df91_level0_col4\" class=\"col_heading level0 col4\" >F1</th>\n",
       "      <th id=\"T_4df91_level0_col5\" class=\"col_heading level0 col5\" >Kappa</th>\n",
       "      <th id=\"T_4df91_level0_col6\" class=\"col_heading level0 col6\" >MCC</th>\n",
       "    </tr>\n",
       "  </thead>\n",
       "  <tbody>\n",
       "    <tr>\n",
       "      <th id=\"T_4df91_level0_row0\" class=\"row_heading level0 row0\" >0</th>\n",
       "      <td id=\"T_4df91_row0_col0\" class=\"data row0 col0\" >0.9795</td>\n",
       "      <td id=\"T_4df91_row0_col1\" class=\"data row0 col1\" >0.9852</td>\n",
       "      <td id=\"T_4df91_row0_col2\" class=\"data row0 col2\" >0.8824</td>\n",
       "      <td id=\"T_4df91_row0_col3\" class=\"data row0 col3\" >0.9574</td>\n",
       "      <td id=\"T_4df91_row0_col4\" class=\"data row0 col4\" >0.9184</td>\n",
       "      <td id=\"T_4df91_row0_col5\" class=\"data row0 col5\" >0.9067</td>\n",
       "      <td id=\"T_4df91_row0_col6\" class=\"data row0 col6\" >0.9076</td>\n",
       "    </tr>\n",
       "    <tr>\n",
       "      <th id=\"T_4df91_level0_row1\" class=\"row_heading level0 row1\" >1</th>\n",
       "      <td id=\"T_4df91_row1_col0\" class=\"data row1 col0\" >0.9795</td>\n",
       "      <td id=\"T_4df91_row1_col1\" class=\"data row1 col1\" >0.9798</td>\n",
       "      <td id=\"T_4df91_row1_col2\" class=\"data row1 col2\" >0.8431</td>\n",
       "      <td id=\"T_4df91_row1_col3\" class=\"data row1 col3\" >1.0000</td>\n",
       "      <td id=\"T_4df91_row1_col4\" class=\"data row1 col4\" >0.9149</td>\n",
       "      <td id=\"T_4df91_row1_col5\" class=\"data row1 col5\" >0.9033</td>\n",
       "      <td id=\"T_4df91_row1_col6\" class=\"data row1 col6\" >0.9076</td>\n",
       "    </tr>\n",
       "    <tr>\n",
       "      <th id=\"T_4df91_level0_row2\" class=\"row_heading level0 row2\" >2</th>\n",
       "      <td id=\"T_4df91_row2_col0\" class=\"data row2 col0\" >0.9692</td>\n",
       "      <td id=\"T_4df91_row2_col1\" class=\"data row2 col1\" >0.9716</td>\n",
       "      <td id=\"T_4df91_row2_col2\" class=\"data row2 col2\" >0.8039</td>\n",
       "      <td id=\"T_4df91_row2_col3\" class=\"data row2 col3\" >0.9535</td>\n",
       "      <td id=\"T_4df91_row2_col4\" class=\"data row2 col4\" >0.8723</td>\n",
       "      <td id=\"T_4df91_row2_col5\" class=\"data row2 col5\" >0.8550</td>\n",
       "      <td id=\"T_4df91_row2_col6\" class=\"data row2 col6\" >0.8590</td>\n",
       "    </tr>\n",
       "    <tr>\n",
       "      <th id=\"T_4df91_level0_row3\" class=\"row_heading level0 row3\" >3</th>\n",
       "      <td id=\"T_4df91_row3_col0\" class=\"data row3 col0\" >0.9615</td>\n",
       "      <td id=\"T_4df91_row3_col1\" class=\"data row3 col1\" >0.9266</td>\n",
       "      <td id=\"T_4df91_row3_col2\" class=\"data row3 col2\" >0.7885</td>\n",
       "      <td id=\"T_4df91_row3_col3\" class=\"data row3 col3\" >0.9111</td>\n",
       "      <td id=\"T_4df91_row3_col4\" class=\"data row3 col4\" >0.8454</td>\n",
       "      <td id=\"T_4df91_row3_col5\" class=\"data row3 col5\" >0.8235</td>\n",
       "      <td id=\"T_4df91_row3_col6\" class=\"data row3 col6\" >0.8263</td>\n",
       "    </tr>\n",
       "    <tr>\n",
       "      <th id=\"T_4df91_level0_row4\" class=\"row_heading level0 row4\" >4</th>\n",
       "      <td id=\"T_4df91_row4_col0\" class=\"data row4 col0\" >0.9718</td>\n",
       "      <td id=\"T_4df91_row4_col1\" class=\"data row4 col1\" >0.9596</td>\n",
       "      <td id=\"T_4df91_row4_col2\" class=\"data row4 col2\" >0.8462</td>\n",
       "      <td id=\"T_4df91_row4_col3\" class=\"data row4 col3\" >0.9362</td>\n",
       "      <td id=\"T_4df91_row4_col4\" class=\"data row4 col4\" >0.8889</td>\n",
       "      <td id=\"T_4df91_row4_col5\" class=\"data row4 col5\" >0.8728</td>\n",
       "      <td id=\"T_4df91_row4_col6\" class=\"data row4 col6\" >0.8742</td>\n",
       "    </tr>\n",
       "    <tr>\n",
       "      <th id=\"T_4df91_level0_row5\" class=\"row_heading level0 row5\" >5</th>\n",
       "      <td id=\"T_4df91_row5_col0\" class=\"data row5 col0\" >0.9641</td>\n",
       "      <td id=\"T_4df91_row5_col1\" class=\"data row5 col1\" >0.9155</td>\n",
       "      <td id=\"T_4df91_row5_col2\" class=\"data row5 col2\" >0.7500</td>\n",
       "      <td id=\"T_4df91_row5_col3\" class=\"data row5 col3\" >0.9750</td>\n",
       "      <td id=\"T_4df91_row5_col4\" class=\"data row5 col4\" >0.8478</td>\n",
       "      <td id=\"T_4df91_row5_col5\" class=\"data row5 col5\" >0.8279</td>\n",
       "      <td id=\"T_4df91_row5_col6\" class=\"data row5 col6\" >0.8370</td>\n",
       "    </tr>\n",
       "    <tr>\n",
       "      <th id=\"T_4df91_level0_row6\" class=\"row_heading level0 row6\" >6</th>\n",
       "      <td id=\"T_4df91_row6_col0\" class=\"data row6 col0\" >0.9564</td>\n",
       "      <td id=\"T_4df91_row6_col1\" class=\"data row6 col1\" >0.8990</td>\n",
       "      <td id=\"T_4df91_row6_col2\" class=\"data row6 col2\" >0.7308</td>\n",
       "      <td id=\"T_4df91_row6_col3\" class=\"data row6 col3\" >0.9268</td>\n",
       "      <td id=\"T_4df91_row6_col4\" class=\"data row6 col4\" >0.8172</td>\n",
       "      <td id=\"T_4df91_row6_col5\" class=\"data row6 col5\" >0.7929</td>\n",
       "      <td id=\"T_4df91_row6_col6\" class=\"data row6 col6\" >0.8001</td>\n",
       "    </tr>\n",
       "    <tr>\n",
       "      <th id=\"T_4df91_level0_row7\" class=\"row_heading level0 row7\" >7</th>\n",
       "      <td id=\"T_4df91_row7_col0\" class=\"data row7 col0\" >0.9769</td>\n",
       "      <td id=\"T_4df91_row7_col1\" class=\"data row7 col1\" >0.9713</td>\n",
       "      <td id=\"T_4df91_row7_col2\" class=\"data row7 col2\" >0.8269</td>\n",
       "      <td id=\"T_4df91_row7_col3\" class=\"data row7 col3\" >1.0000</td>\n",
       "      <td id=\"T_4df91_row7_col4\" class=\"data row7 col4\" >0.9053</td>\n",
       "      <td id=\"T_4df91_row7_col5\" class=\"data row7 col5\" >0.8923</td>\n",
       "      <td id=\"T_4df91_row7_col6\" class=\"data row7 col6\" >0.8975</td>\n",
       "    </tr>\n",
       "    <tr>\n",
       "      <th id=\"T_4df91_level0_row8\" class=\"row_heading level0 row8\" >8</th>\n",
       "      <td id=\"T_4df91_row8_col0\" class=\"data row8 col0\" >0.9795</td>\n",
       "      <td id=\"T_4df91_row8_col1\" class=\"data row8 col1\" >0.9925</td>\n",
       "      <td id=\"T_4df91_row8_col2\" class=\"data row8 col2\" >0.8654</td>\n",
       "      <td id=\"T_4df91_row8_col3\" class=\"data row8 col3\" >0.9783</td>\n",
       "      <td id=\"T_4df91_row8_col4\" class=\"data row8 col4\" >0.9184</td>\n",
       "      <td id=\"T_4df91_row8_col5\" class=\"data row8 col5\" >0.9067</td>\n",
       "      <td id=\"T_4df91_row8_col6\" class=\"data row8 col6\" >0.9089</td>\n",
       "    </tr>\n",
       "    <tr>\n",
       "      <th id=\"T_4df91_level0_row9\" class=\"row_heading level0 row9\" >9</th>\n",
       "      <td id=\"T_4df91_row9_col0\" class=\"data row9 col0\" >0.9692</td>\n",
       "      <td id=\"T_4df91_row9_col1\" class=\"data row9 col1\" >0.9213</td>\n",
       "      <td id=\"T_4df91_row9_col2\" class=\"data row9 col2\" >0.7885</td>\n",
       "      <td id=\"T_4df91_row9_col3\" class=\"data row9 col3\" >0.9762</td>\n",
       "      <td id=\"T_4df91_row9_col4\" class=\"data row9 col4\" >0.8723</td>\n",
       "      <td id=\"T_4df91_row9_col5\" class=\"data row9 col5\" >0.8551</td>\n",
       "      <td id=\"T_4df91_row9_col6\" class=\"data row9 col6\" >0.8614</td>\n",
       "    </tr>\n",
       "    <tr>\n",
       "      <th id=\"T_4df91_level0_row10\" class=\"row_heading level0 row10\" >Mean</th>\n",
       "      <td id=\"T_4df91_row10_col0\" class=\"data row10 col0\" >0.9708</td>\n",
       "      <td id=\"T_4df91_row10_col1\" class=\"data row10 col1\" >0.9522</td>\n",
       "      <td id=\"T_4df91_row10_col2\" class=\"data row10 col2\" >0.8126</td>\n",
       "      <td id=\"T_4df91_row10_col3\" class=\"data row10 col3\" >0.9614</td>\n",
       "      <td id=\"T_4df91_row10_col4\" class=\"data row10 col4\" >0.8801</td>\n",
       "      <td id=\"T_4df91_row10_col5\" class=\"data row10 col5\" >0.8636</td>\n",
       "      <td id=\"T_4df91_row10_col6\" class=\"data row10 col6\" >0.8680</td>\n",
       "    </tr>\n",
       "    <tr>\n",
       "      <th id=\"T_4df91_level0_row11\" class=\"row_heading level0 row11\" >SD</th>\n",
       "      <td id=\"T_4df91_row11_col0\" class=\"data row11 col0\" >0.0078</td>\n",
       "      <td id=\"T_4df91_row11_col1\" class=\"data row11 col1\" >0.0317</td>\n",
       "      <td id=\"T_4df91_row11_col2\" class=\"data row11 col2\" >0.0467</td>\n",
       "      <td id=\"T_4df91_row11_col3\" class=\"data row11 col3\" >0.0285</td>\n",
       "      <td id=\"T_4df91_row11_col4\" class=\"data row11 col4\" >0.0334</td>\n",
       "      <td id=\"T_4df91_row11_col5\" class=\"data row11 col5\" >0.0377</td>\n",
       "      <td id=\"T_4df91_row11_col6\" class=\"data row11 col6\" >0.0363</td>\n",
       "    </tr>\n",
       "  </tbody>\n",
       "</table>\n"
      ],
      "text/plain": [
       "<pandas.io.formats.style.Styler at 0x25d815e57f0>"
      ]
     },
     "metadata": {},
     "output_type": "display_data"
    }
   ],
   "source": [
    "dt = create_model('rf')"
   ]
  },
  {
   "cell_type": "code",
   "execution_count": 42,
   "id": "eeef7e80",
   "metadata": {},
   "outputs": [
    {
     "data": {
      "text/html": [
       "<style type=\"text/css\">\n",
       "#T_736b1_row10_col0, #T_736b1_row10_col1, #T_736b1_row10_col2, #T_736b1_row10_col3, #T_736b1_row10_col4, #T_736b1_row10_col5, #T_736b1_row10_col6 {\n",
       "  background: yellow;\n",
       "}\n",
       "</style>\n",
       "<table id=\"T_736b1\">\n",
       "  <thead>\n",
       "    <tr>\n",
       "      <th class=\"blank level0\" >&nbsp;</th>\n",
       "      <th id=\"T_736b1_level0_col0\" class=\"col_heading level0 col0\" >Accuracy</th>\n",
       "      <th id=\"T_736b1_level0_col1\" class=\"col_heading level0 col1\" >AUC</th>\n",
       "      <th id=\"T_736b1_level0_col2\" class=\"col_heading level0 col2\" >Recall</th>\n",
       "      <th id=\"T_736b1_level0_col3\" class=\"col_heading level0 col3\" >Prec.</th>\n",
       "      <th id=\"T_736b1_level0_col4\" class=\"col_heading level0 col4\" >F1</th>\n",
       "      <th id=\"T_736b1_level0_col5\" class=\"col_heading level0 col5\" >Kappa</th>\n",
       "      <th id=\"T_736b1_level0_col6\" class=\"col_heading level0 col6\" >MCC</th>\n",
       "    </tr>\n",
       "  </thead>\n",
       "  <tbody>\n",
       "    <tr>\n",
       "      <th id=\"T_736b1_level0_row0\" class=\"row_heading level0 row0\" >0</th>\n",
       "      <td id=\"T_736b1_row0_col0\" class=\"data row0 col0\" >0.9821</td>\n",
       "      <td id=\"T_736b1_row0_col1\" class=\"data row0 col1\" >0.9685</td>\n",
       "      <td id=\"T_736b1_row0_col2\" class=\"data row0 col2\" >0.9020</td>\n",
       "      <td id=\"T_736b1_row0_col3\" class=\"data row0 col3\" >0.9583</td>\n",
       "      <td id=\"T_736b1_row0_col4\" class=\"data row0 col4\" >0.9293</td>\n",
       "      <td id=\"T_736b1_row0_col5\" class=\"data row0 col5\" >0.9190</td>\n",
       "      <td id=\"T_736b1_row0_col6\" class=\"data row0 col6\" >0.9196</td>\n",
       "    </tr>\n",
       "    <tr>\n",
       "      <th id=\"T_736b1_level0_row1\" class=\"row_heading level0 row1\" >1</th>\n",
       "      <td id=\"T_736b1_row1_col0\" class=\"data row1 col0\" >0.9744</td>\n",
       "      <td id=\"T_736b1_row1_col1\" class=\"data row1 col1\" >0.9578</td>\n",
       "      <td id=\"T_736b1_row1_col2\" class=\"data row1 col2\" >0.8235</td>\n",
       "      <td id=\"T_736b1_row1_col3\" class=\"data row1 col3\" >0.9767</td>\n",
       "      <td id=\"T_736b1_row1_col4\" class=\"data row1 col4\" >0.8936</td>\n",
       "      <td id=\"T_736b1_row1_col5\" class=\"data row1 col5\" >0.8792</td>\n",
       "      <td id=\"T_736b1_row1_col6\" class=\"data row1 col6\" >0.8833</td>\n",
       "    </tr>\n",
       "    <tr>\n",
       "      <th id=\"T_736b1_level0_row2\" class=\"row_heading level0 row2\" >2</th>\n",
       "      <td id=\"T_736b1_row2_col0\" class=\"data row2 col0\" >0.9718</td>\n",
       "      <td id=\"T_736b1_row2_col1\" class=\"data row2 col1\" >0.9731</td>\n",
       "      <td id=\"T_736b1_row2_col2\" class=\"data row2 col2\" >0.8039</td>\n",
       "      <td id=\"T_736b1_row2_col3\" class=\"data row2 col3\" >0.9762</td>\n",
       "      <td id=\"T_736b1_row2_col4\" class=\"data row2 col4\" >0.8817</td>\n",
       "      <td id=\"T_736b1_row2_col5\" class=\"data row2 col5\" >0.8659</td>\n",
       "      <td id=\"T_736b1_row2_col6\" class=\"data row2 col6\" >0.8711</td>\n",
       "    </tr>\n",
       "    <tr>\n",
       "      <th id=\"T_736b1_level0_row3\" class=\"row_heading level0 row3\" >3</th>\n",
       "      <td id=\"T_736b1_row3_col0\" class=\"data row3 col0\" >0.9667</td>\n",
       "      <td id=\"T_736b1_row3_col1\" class=\"data row3 col1\" >0.9246</td>\n",
       "      <td id=\"T_736b1_row3_col2\" class=\"data row3 col2\" >0.8077</td>\n",
       "      <td id=\"T_736b1_row3_col3\" class=\"data row3 col3\" >0.9333</td>\n",
       "      <td id=\"T_736b1_row3_col4\" class=\"data row3 col4\" >0.8660</td>\n",
       "      <td id=\"T_736b1_row3_col5\" class=\"data row3 col5\" >0.8471</td>\n",
       "      <td id=\"T_736b1_row3_col6\" class=\"data row3 col6\" >0.8499</td>\n",
       "    </tr>\n",
       "    <tr>\n",
       "      <th id=\"T_736b1_level0_row4\" class=\"row_heading level0 row4\" >4</th>\n",
       "      <td id=\"T_736b1_row4_col0\" class=\"data row4 col0\" >0.9718</td>\n",
       "      <td id=\"T_736b1_row4_col1\" class=\"data row4 col1\" >0.9478</td>\n",
       "      <td id=\"T_736b1_row4_col2\" class=\"data row4 col2\" >0.8462</td>\n",
       "      <td id=\"T_736b1_row4_col3\" class=\"data row4 col3\" >0.9362</td>\n",
       "      <td id=\"T_736b1_row4_col4\" class=\"data row4 col4\" >0.8889</td>\n",
       "      <td id=\"T_736b1_row4_col5\" class=\"data row4 col5\" >0.8728</td>\n",
       "      <td id=\"T_736b1_row4_col6\" class=\"data row4 col6\" >0.8742</td>\n",
       "    </tr>\n",
       "    <tr>\n",
       "      <th id=\"T_736b1_level0_row5\" class=\"row_heading level0 row5\" >5</th>\n",
       "      <td id=\"T_736b1_row5_col0\" class=\"data row5 col0\" >0.9641</td>\n",
       "      <td id=\"T_736b1_row5_col1\" class=\"data row5 col1\" >0.8980</td>\n",
       "      <td id=\"T_736b1_row5_col2\" class=\"data row5 col2\" >0.7308</td>\n",
       "      <td id=\"T_736b1_row5_col3\" class=\"data row5 col3\" >1.0000</td>\n",
       "      <td id=\"T_736b1_row5_col4\" class=\"data row5 col4\" >0.8444</td>\n",
       "      <td id=\"T_736b1_row5_col5\" class=\"data row5 col5\" >0.8247</td>\n",
       "      <td id=\"T_736b1_row5_col6\" class=\"data row5 col6\" >0.8377</td>\n",
       "    </tr>\n",
       "    <tr>\n",
       "      <th id=\"T_736b1_level0_row6\" class=\"row_heading level0 row6\" >6</th>\n",
       "      <td id=\"T_736b1_row6_col0\" class=\"data row6 col0\" >0.9590</td>\n",
       "      <td id=\"T_736b1_row6_col1\" class=\"data row6 col1\" >0.9119</td>\n",
       "      <td id=\"T_736b1_row6_col2\" class=\"data row6 col2\" >0.7115</td>\n",
       "      <td id=\"T_736b1_row6_col3\" class=\"data row6 col3\" >0.9737</td>\n",
       "      <td id=\"T_736b1_row6_col4\" class=\"data row6 col4\" >0.8222</td>\n",
       "      <td id=\"T_736b1_row6_col5\" class=\"data row6 col5\" >0.7997</td>\n",
       "      <td id=\"T_736b1_row6_col6\" class=\"data row6 col6\" >0.8122</td>\n",
       "    </tr>\n",
       "    <tr>\n",
       "      <th id=\"T_736b1_level0_row7\" class=\"row_heading level0 row7\" >7</th>\n",
       "      <td id=\"T_736b1_row7_col0\" class=\"data row7 col0\" >0.9744</td>\n",
       "      <td id=\"T_736b1_row7_col1\" class=\"data row7 col1\" >0.9463</td>\n",
       "      <td id=\"T_736b1_row7_col2\" class=\"data row7 col2\" >0.8269</td>\n",
       "      <td id=\"T_736b1_row7_col3\" class=\"data row7 col3\" >0.9773</td>\n",
       "      <td id=\"T_736b1_row7_col4\" class=\"data row7 col4\" >0.8958</td>\n",
       "      <td id=\"T_736b1_row7_col5\" class=\"data row7 col5\" >0.8813</td>\n",
       "      <td id=\"T_736b1_row7_col6\" class=\"data row7 col6\" >0.8853</td>\n",
       "    </tr>\n",
       "    <tr>\n",
       "      <th id=\"T_736b1_level0_row8\" class=\"row_heading level0 row8\" >8</th>\n",
       "      <td id=\"T_736b1_row8_col0\" class=\"data row8 col0\" >0.9769</td>\n",
       "      <td id=\"T_736b1_row8_col1\" class=\"data row8 col1\" >0.9859</td>\n",
       "      <td id=\"T_736b1_row8_col2\" class=\"data row8 col2\" >0.8654</td>\n",
       "      <td id=\"T_736b1_row8_col3\" class=\"data row8 col3\" >0.9574</td>\n",
       "      <td id=\"T_736b1_row8_col4\" class=\"data row8 col4\" >0.9091</td>\n",
       "      <td id=\"T_736b1_row8_col5\" class=\"data row8 col5\" >0.8959</td>\n",
       "      <td id=\"T_736b1_row8_col6\" class=\"data row8 col6\" >0.8974</td>\n",
       "    </tr>\n",
       "    <tr>\n",
       "      <th id=\"T_736b1_level0_row9\" class=\"row_heading level0 row9\" >9</th>\n",
       "      <td id=\"T_736b1_row9_col0\" class=\"data row9 col0\" >0.9667</td>\n",
       "      <td id=\"T_736b1_row9_col1\" class=\"data row9 col1\" >0.9109</td>\n",
       "      <td id=\"T_736b1_row9_col2\" class=\"data row9 col2\" >0.7692</td>\n",
       "      <td id=\"T_736b1_row9_col3\" class=\"data row9 col3\" >0.9756</td>\n",
       "      <td id=\"T_736b1_row9_col4\" class=\"data row9 col4\" >0.8602</td>\n",
       "      <td id=\"T_736b1_row9_col5\" class=\"data row9 col5\" >0.8416</td>\n",
       "      <td id=\"T_736b1_row9_col6\" class=\"data row9 col6\" >0.8493</td>\n",
       "    </tr>\n",
       "    <tr>\n",
       "      <th id=\"T_736b1_level0_row10\" class=\"row_heading level0 row10\" >Mean</th>\n",
       "      <td id=\"T_736b1_row10_col0\" class=\"data row10 col0\" >0.9708</td>\n",
       "      <td id=\"T_736b1_row10_col1\" class=\"data row10 col1\" >0.9425</td>\n",
       "      <td id=\"T_736b1_row10_col2\" class=\"data row10 col2\" >0.8087</td>\n",
       "      <td id=\"T_736b1_row10_col3\" class=\"data row10 col3\" >0.9665</td>\n",
       "      <td id=\"T_736b1_row10_col4\" class=\"data row10 col4\" >0.8791</td>\n",
       "      <td id=\"T_736b1_row10_col5\" class=\"data row10 col5\" >0.8627</td>\n",
       "      <td id=\"T_736b1_row10_col6\" class=\"data row10 col6\" >0.8680</td>\n",
       "    </tr>\n",
       "    <tr>\n",
       "      <th id=\"T_736b1_level0_row11\" class=\"row_heading level0 row11\" >SD</th>\n",
       "      <td id=\"T_736b1_row11_col0\" class=\"data row11 col0\" >0.0064</td>\n",
       "      <td id=\"T_736b1_row11_col1\" class=\"data row11 col1\" >0.0283</td>\n",
       "      <td id=\"T_736b1_row11_col2\" class=\"data row11 col2\" >0.0556</td>\n",
       "      <td id=\"T_736b1_row11_col3\" class=\"data row11 col3\" >0.0193</td>\n",
       "      <td id=\"T_736b1_row11_col4\" class=\"data row11 col4\" >0.0300</td>\n",
       "      <td id=\"T_736b1_row11_col5\" class=\"data row11 col5\" >0.0333</td>\n",
       "      <td id=\"T_736b1_row11_col6\" class=\"data row11 col6\" >0.0297</td>\n",
       "    </tr>\n",
       "  </tbody>\n",
       "</table>\n"
      ],
      "text/plain": [
       "<pandas.io.formats.style.Styler at 0x25ddc7ac6a0>"
      ]
     },
     "metadata": {},
     "output_type": "display_data"
    }
   ],
   "source": [
    "dt = create_model('et')"
   ]
  },
  {
   "cell_type": "code",
   "execution_count": null,
   "id": "f01667c5",
   "metadata": {},
   "outputs": [],
   "source": []
  }
 ],
 "metadata": {
  "kernelspec": {
   "display_name": "Python 3 (ipykernel)",
   "language": "python",
   "name": "python3"
  },
  "language_info": {
   "codemirror_mode": {
    "name": "ipython",
    "version": 3
   },
   "file_extension": ".py",
   "mimetype": "text/x-python",
   "name": "python",
   "nbconvert_exporter": "python",
   "pygments_lexer": "ipython3",
   "version": "3.8.12"
  }
 },
 "nbformat": 4,
 "nbformat_minor": 5
}
